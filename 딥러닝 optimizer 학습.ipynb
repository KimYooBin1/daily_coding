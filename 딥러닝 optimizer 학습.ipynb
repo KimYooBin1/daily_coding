{
  "nbformat": 4,
  "nbformat_minor": 0,
  "metadata": {
    "colab": {
      "name": "군대 코딩 일지 1/10의 사본",
      "provenance": [],
      "authorship_tag": "ABX9TyOizoiOFHtIN3klSFP5LP+T",
      "include_colab_link": true
    },
    "kernelspec": {
      "name": "python3",
      "display_name": "Python 3"
    },
    "language_info": {
      "name": "python"
    }
  },
  "cells": [
    {
      "cell_type": "markdown",
      "metadata": {
        "id": "view-in-github",
        "colab_type": "text"
      },
      "source": [
        "<a href=\"https://colab.research.google.com/github/KimYooBin1/daily_coding/blob/main/%EB%94%A5%EB%9F%AC%EB%8B%9D%20optimizer%20%ED%95%99%EC%8A%B5.ipynb\" target=\"_parent\"><img src=\"https://colab.research.google.com/assets/colab-badge.svg\" alt=\"Open In Colab\"/></a>"
      ]
    },
    {
      "cell_type": "code",
      "execution_count": null,
      "metadata": {
        "id": "vPD7cW13x_18"
      },
      "outputs": [],
      "source": [
        "from sklearn import datasets"
      ]
    },
    {
      "cell_type": "code",
      "source": [
        "from sklearn.neural_network import MLPClassifier"
      ],
      "metadata": {
        "id": "EswLmWip0FrL"
      },
      "execution_count": null,
      "outputs": []
    },
    {
      "cell_type": "code",
      "source": [
        "from sklearn.model_selection import train_test_split, validation_curve"
      ],
      "metadata": {
        "id": "d0wONYsu0MYS"
      },
      "execution_count": null,
      "outputs": []
    },
    {
      "cell_type": "code",
      "source": [
        "import numpy as np\n",
        "import matplotlib.pyplot as plt\n",
        "import time"
      ],
      "metadata": {
        "id": "qLYFR89b0Umy"
      },
      "execution_count": null,
      "outputs": []
    },
    {
      "cell_type": "code",
      "source": [
        "digit=datasets.load_digits()"
      ],
      "metadata": {
        "id": "Ey-rgbq70a6C"
      },
      "execution_count": null,
      "outputs": []
    },
    {
      "cell_type": "code",
      "source": [
        "x_train, x_test, y_train, y_test = train_test_split(digit.data, digit.target, train_size = 0.6)"
      ],
      "metadata": {
        "id": "lAT4Q4cc0fhh"
      },
      "execution_count": null,
      "outputs": []
    },
    {
      "cell_type": "code",
      "source": [
        " mlp=MLPClassifier(hidden_layer_sizes=(100), learning_rate_init=0.001,batch_size=32,max_iter=300,solver=\"sgd\",verbose=True)"
      ],
      "metadata": {
        "id": "qDpjft-f0s8y"
      },
      "execution_count": null,
      "outputs": []
    },
    {
      "cell_type": "code",
      "source": [
        "mlp.fit(x_train, y_train)"
      ],
      "metadata": {
        "colab": {
          "base_uri": "https://localhost:8080/"
        },
        "id": "PCXKd2E41Dcv",
        "outputId": "68d55c70-37d4-4fc6-f378-45cca0582cc4"
      },
      "execution_count": null,
      "outputs": [
        {
          "output_type": "stream",
          "name": "stdout",
          "text": [
            "Iteration 1, loss = 2.15855671\n",
            "Iteration 2, loss = 0.31508898\n",
            "Iteration 3, loss = 0.20991233\n",
            "Iteration 4, loss = 0.15867362\n",
            "Iteration 5, loss = 0.13357056\n",
            "Iteration 6, loss = 0.11265027\n",
            "Iteration 7, loss = 0.09993706\n",
            "Iteration 8, loss = 0.08740099\n",
            "Iteration 9, loss = 0.07924418\n",
            "Iteration 10, loss = 0.06779047\n",
            "Iteration 11, loss = 0.06349389\n",
            "Iteration 12, loss = 0.05601092\n",
            "Iteration 13, loss = 0.05168303\n",
            "Iteration 14, loss = 0.04770864\n",
            "Iteration 15, loss = 0.04360317\n",
            "Iteration 16, loss = 0.04223240\n",
            "Iteration 17, loss = 0.03862668\n",
            "Iteration 18, loss = 0.03460252\n",
            "Iteration 19, loss = 0.03577061\n",
            "Iteration 20, loss = 0.03160444\n",
            "Iteration 21, loss = 0.03040483\n",
            "Iteration 22, loss = 0.02903082\n",
            "Iteration 23, loss = 0.02715517\n",
            "Iteration 24, loss = 0.02643623\n",
            "Iteration 25, loss = 0.02417889\n",
            "Iteration 26, loss = 0.02351597\n",
            "Iteration 27, loss = 0.02420270\n",
            "Iteration 28, loss = 0.02176834\n",
            "Iteration 29, loss = 0.02080545\n",
            "Iteration 30, loss = 0.02069073\n",
            "Iteration 31, loss = 0.01980141\n",
            "Iteration 32, loss = 0.01919902\n",
            "Iteration 33, loss = 0.01813212\n",
            "Iteration 34, loss = 0.01728948\n",
            "Iteration 35, loss = 0.01701872\n",
            "Iteration 36, loss = 0.01776066\n",
            "Iteration 37, loss = 0.01614093\n",
            "Iteration 38, loss = 0.01533670\n",
            "Iteration 39, loss = 0.01582252\n",
            "Iteration 40, loss = 0.01559331\n",
            "Iteration 41, loss = 0.01457738\n",
            "Iteration 42, loss = 0.01404240\n",
            "Iteration 43, loss = 0.01374022\n",
            "Iteration 44, loss = 0.01344648\n",
            "Iteration 45, loss = 0.01284247\n",
            "Iteration 46, loss = 0.01275771\n",
            "Iteration 47, loss = 0.01191504\n",
            "Iteration 48, loss = 0.01198261\n",
            "Iteration 49, loss = 0.01187285\n",
            "Iteration 50, loss = 0.01148088\n",
            "Iteration 51, loss = 0.01103842\n",
            "Iteration 52, loss = 0.01110740\n",
            "Iteration 53, loss = 0.01065917\n",
            "Iteration 54, loss = 0.01026056\n",
            "Iteration 55, loss = 0.00997604\n",
            "Iteration 56, loss = 0.01005536\n",
            "Iteration 57, loss = 0.01018466\n",
            "Iteration 58, loss = 0.00962333\n",
            "Iteration 59, loss = 0.00959433\n",
            "Iteration 60, loss = 0.00924027\n",
            "Iteration 61, loss = 0.00926072\n",
            "Iteration 62, loss = 0.00890557\n",
            "Iteration 63, loss = 0.00871965\n",
            "Iteration 64, loss = 0.00875035\n",
            "Iteration 65, loss = 0.00855524\n",
            "Iteration 66, loss = 0.00848259\n",
            "Iteration 67, loss = 0.00822076\n",
            "Iteration 68, loss = 0.00797187\n",
            "Iteration 69, loss = 0.00790393\n",
            "Iteration 70, loss = 0.00772865\n",
            "Iteration 71, loss = 0.00770580\n",
            "Iteration 72, loss = 0.00762837\n",
            "Iteration 73, loss = 0.00742596\n",
            "Iteration 74, loss = 0.00748515\n",
            "Iteration 75, loss = 0.00735796\n",
            "Iteration 76, loss = 0.00723743\n",
            "Iteration 77, loss = 0.00725940\n",
            "Iteration 78, loss = 0.00697636\n",
            "Iteration 79, loss = 0.00684206\n",
            "Iteration 80, loss = 0.00677029\n",
            "Iteration 81, loss = 0.00661336\n",
            "Iteration 82, loss = 0.00658388\n",
            "Iteration 83, loss = 0.00658993\n",
            "Iteration 84, loss = 0.00638994\n",
            "Iteration 85, loss = 0.00635968\n",
            "Iteration 86, loss = 0.00635113\n",
            "Iteration 87, loss = 0.00625111\n",
            "Iteration 88, loss = 0.00607212\n",
            "Iteration 89, loss = 0.00603390\n",
            "Iteration 90, loss = 0.00602560\n",
            "Iteration 91, loss = 0.00601473\n",
            "Iteration 92, loss = 0.00589327\n",
            "Iteration 93, loss = 0.00575813\n",
            "Iteration 94, loss = 0.00566255\n",
            "Iteration 95, loss = 0.00555853\n",
            "Iteration 96, loss = 0.00580164\n",
            "Iteration 97, loss = 0.00550857\n",
            "Iteration 98, loss = 0.00543515\n",
            "Iteration 99, loss = 0.00541368\n",
            "Iteration 100, loss = 0.00534402\n",
            "Iteration 101, loss = 0.00520290\n",
            "Iteration 102, loss = 0.00528610\n",
            "Iteration 103, loss = 0.00523042\n",
            "Iteration 104, loss = 0.00510769\n",
            "Iteration 105, loss = 0.00502192\n",
            "Iteration 106, loss = 0.00495306\n",
            "Iteration 107, loss = 0.00494911\n",
            "Iteration 108, loss = 0.00495370\n",
            "Iteration 109, loss = 0.00479777\n",
            "Iteration 110, loss = 0.00474511\n",
            "Iteration 111, loss = 0.00476056\n",
            "Iteration 112, loss = 0.00470457\n",
            "Iteration 113, loss = 0.00467277\n",
            "Iteration 114, loss = 0.00459308\n",
            "Iteration 115, loss = 0.00458470\n",
            "Iteration 116, loss = 0.00454378\n",
            "Iteration 117, loss = 0.00448582\n",
            "Iteration 118, loss = 0.00444894\n",
            "Iteration 119, loss = 0.00441348\n",
            "Iteration 120, loss = 0.00435564\n",
            "Training loss did not improve more than tol=0.000100 for 10 consecutive epochs. Stopping.\n"
          ]
        },
        {
          "output_type": "execute_result",
          "data": {
            "text/plain": [
              "MLPClassifier(batch_size=32, hidden_layer_sizes=100, max_iter=300, solver='sgd',\n",
              "              verbose=True)"
            ]
          },
          "metadata": {},
          "execution_count": 8
        }
      ]
    },
    {
      "cell_type": "code",
      "source": [
        "res=mlp.predict(x_test)"
      ],
      "metadata": {
        "id": "I81cfh_W1IF4"
      },
      "execution_count": null,
      "outputs": []
    },
    {
      "cell_type": "code",
      "source": [
        "conf=np.zeros((10,10))"
      ],
      "metadata": {
        "id": "Hdk93XJ71Qbw"
      },
      "execution_count": null,
      "outputs": []
    },
    {
      "cell_type": "code",
      "source": [
        "for i in range(len(res)):\n",
        "  conf[res[i]][y_test[i]]+=1"
      ],
      "metadata": {
        "id": "llhUn0z21TlI"
      },
      "execution_count": null,
      "outputs": []
    },
    {
      "cell_type": "code",
      "source": [
        "print(conf)"
      ],
      "metadata": {
        "colab": {
          "base_uri": "https://localhost:8080/"
        },
        "id": "aVFP8diM1V4T",
        "outputId": "e473c518-6574-416d-fc42-e95cab9e5c22"
      },
      "execution_count": null,
      "outputs": [
        {
          "output_type": "stream",
          "name": "stdout",
          "text": [
            "[[66.  0.  0.  0.  1.  0.  0.  0.  0.  0.]\n",
            " [ 0. 63.  1.  0.  0.  0.  1.  0.  2.  0.]\n",
            " [ 0.  0. 76.  0.  0.  0.  0.  0.  0.  0.]\n",
            " [ 0.  0.  0. 65.  0.  0.  0.  0.  0.  0.]\n",
            " [ 1.  0.  0.  0. 72.  1.  0.  0.  0.  0.]\n",
            " [ 0.  0.  0.  0.  0. 74.  0.  0.  0.  1.]\n",
            " [ 0.  0.  0.  0.  0.  0. 71.  0.  0.  0.]\n",
            " [ 0.  0.  0.  1.  1.  0.  0. 71.  0.  0.]\n",
            " [ 0.  0.  0.  4.  0.  0.  0.  0. 71.  1.]\n",
            " [ 0.  1.  0.  0.  0.  1.  0.  3.  0. 70.]]\n"
          ]
        }
      ]
    },
    {
      "cell_type": "code",
      "source": [
        "no_correct=0"
      ],
      "metadata": {
        "id": "-_byzdKN1gVr"
      },
      "execution_count": null,
      "outputs": []
    },
    {
      "cell_type": "code",
      "source": [
        "for i in range(10):\n",
        "  no_correct += conf[i][i]"
      ],
      "metadata": {
        "id": "AIsS2agn1i8j"
      },
      "execution_count": null,
      "outputs": []
    },
    {
      "cell_type": "code",
      "source": [
        "accuracy=no_correct/len(res)"
      ],
      "metadata": {
        "id": "5KM6q8kn1oBW"
      },
      "execution_count": null,
      "outputs": []
    },
    {
      "cell_type": "code",
      "source": [
        "print(\"텍스트 집합에 대한 정확률은 \", accuracy*100,\"입니다\")"
      ],
      "metadata": {
        "colab": {
          "base_uri": "https://localhost:8080/"
        },
        "id": "Z0jcXd--1wXX",
        "outputId": "a77d790b-4f47-485b-d6f9-02c336657c28"
      },
      "execution_count": null,
      "outputs": [
        {
          "output_type": "stream",
          "name": "stdout",
          "text": [
            "텍스트 집합에 대한 정확률은  97.2183588317107 입니다\n"
          ]
        }
      ]
    },
    {
      "cell_type": "code",
      "source": [
        "from sklearn import datasets\n",
        "from sklearn.datasets import fetch_openml\n",
        "from sklearn.neural_network import MLPClassifier\n",
        "import matplotlib.pyplot as plt\n",
        "import numpy as np"
      ],
      "metadata": {
        "id": "GHvlDCJw12Ui"
      },
      "execution_count": null,
      "outputs": []
    },
    {
      "cell_type": "code",
      "source": [
        "#MNIST 데이터셋을 읽고 훈현 집합과 테스트 집합으로 분할\n",
        "mnist=fetch_openml('mnist_784')\n",
        "mnist.data=mnist.data/255.0\n",
        "x_train=mnist.data[:60000];x_test=mnist.data[60000:]\n",
        "y_train=np.int16(mnist.target[:60000]); y_test=np.int16(mnist.target[60000:])"
      ],
      "metadata": {
        "id": "N2yFYIQr8n7b"
      },
      "execution_count": null,
      "outputs": []
    },
    {
      "cell_type": "code",
      "source": [
        "#MLP 분류기 모델을 학습\n",
        "mlp=MLPClassifier(hidden_layer_sizes=(100), learning_rate_init=0.001,batch_size=512,max_iter=300,solver='adam',verbose=True)\n",
        "mlp.fit(x_train,y_train)"
      ],
      "metadata": {
        "colab": {
          "base_uri": "https://localhost:8080/"
        },
        "id": "sET74b3V9PhR",
        "outputId": "14a28b4a-3a14-426e-f9a0-1f946f2a4df5"
      },
      "execution_count": null,
      "outputs": [
        {
          "output_type": "stream",
          "name": "stdout",
          "text": [
            "Iteration 1, loss = 0.61771885\n",
            "Iteration 2, loss = 0.26346193\n",
            "Iteration 3, loss = 0.21215692\n",
            "Iteration 4, loss = 0.17915047\n",
            "Iteration 5, loss = 0.15604824\n",
            "Iteration 6, loss = 0.13697190\n",
            "Iteration 7, loss = 0.12254495\n",
            "Iteration 8, loss = 0.11019882\n",
            "Iteration 9, loss = 0.10033682\n",
            "Iteration 10, loss = 0.09133805\n",
            "Iteration 11, loss = 0.08391458\n",
            "Iteration 12, loss = 0.07687308\n",
            "Iteration 13, loss = 0.07079636\n",
            "Iteration 14, loss = 0.06555506\n",
            "Iteration 15, loss = 0.06118868\n",
            "Iteration 16, loss = 0.05625851\n",
            "Iteration 17, loss = 0.05170162\n",
            "Iteration 18, loss = 0.04884124\n",
            "Iteration 19, loss = 0.04501217\n",
            "Iteration 20, loss = 0.04197729\n",
            "Iteration 21, loss = 0.03972051\n",
            "Iteration 22, loss = 0.03625021\n",
            "Iteration 23, loss = 0.03436601\n",
            "Iteration 24, loss = 0.03186319\n",
            "Iteration 25, loss = 0.02989653\n",
            "Iteration 26, loss = 0.02757626\n",
            "Iteration 27, loss = 0.02577960\n",
            "Iteration 28, loss = 0.02375750\n",
            "Iteration 29, loss = 0.02250823\n",
            "Iteration 30, loss = 0.02073984\n",
            "Iteration 31, loss = 0.01993965\n",
            "Iteration 32, loss = 0.01832817\n",
            "Iteration 33, loss = 0.01751508\n",
            "Iteration 34, loss = 0.01584235\n",
            "Iteration 35, loss = 0.01471507\n",
            "Iteration 36, loss = 0.01374953\n",
            "Iteration 37, loss = 0.01277516\n",
            "Iteration 38, loss = 0.01253454\n",
            "Iteration 39, loss = 0.01121319\n",
            "Iteration 40, loss = 0.01047117\n",
            "Iteration 41, loss = 0.00980318\n",
            "Iteration 42, loss = 0.00909689\n",
            "Iteration 43, loss = 0.00859273\n",
            "Iteration 44, loss = 0.00794665\n",
            "Iteration 45, loss = 0.00735845\n",
            "Iteration 46, loss = 0.00688858\n",
            "Iteration 47, loss = 0.00648608\n",
            "Iteration 48, loss = 0.00600691\n",
            "Iteration 49, loss = 0.00565300\n",
            "Iteration 50, loss = 0.00540338\n",
            "Iteration 51, loss = 0.00491046\n",
            "Iteration 52, loss = 0.00470080\n",
            "Iteration 53, loss = 0.00444259\n",
            "Iteration 54, loss = 0.00405062\n",
            "Iteration 55, loss = 0.00374733\n",
            "Iteration 56, loss = 0.00344371\n",
            "Iteration 57, loss = 0.00342265\n",
            "Iteration 58, loss = 0.00321228\n",
            "Iteration 59, loss = 0.00302239\n",
            "Iteration 60, loss = 0.00308810\n",
            "Iteration 61, loss = 0.00263018\n",
            "Iteration 62, loss = 0.00257003\n",
            "Iteration 63, loss = 0.00229435\n",
            "Iteration 64, loss = 0.00218945\n",
            "Iteration 65, loss = 0.00193371\n",
            "Iteration 66, loss = 0.00194784\n",
            "Iteration 67, loss = 0.00179057\n",
            "Iteration 68, loss = 0.00174862\n",
            "Iteration 69, loss = 0.00162037\n",
            "Iteration 70, loss = 0.00159611\n",
            "Iteration 71, loss = 0.00141727\n",
            "Iteration 72, loss = 0.00133703\n",
            "Iteration 73, loss = 0.00127662\n",
            "Iteration 74, loss = 0.00131625\n",
            "Iteration 75, loss = 0.00119140\n",
            "Iteration 76, loss = 0.00112810\n",
            "Iteration 77, loss = 0.00121882\n",
            "Iteration 78, loss = 0.00119726\n",
            "Iteration 79, loss = 0.00099633\n",
            "Iteration 80, loss = 0.00093263\n",
            "Iteration 81, loss = 0.00087568\n",
            "Iteration 82, loss = 0.00084540\n",
            "Iteration 83, loss = 0.00082522\n",
            "Iteration 84, loss = 0.00078863\n",
            "Iteration 85, loss = 0.00077808\n",
            "Iteration 86, loss = 0.00075277\n",
            "Iteration 87, loss = 0.00069964\n",
            "Iteration 88, loss = 0.00067418\n",
            "Iteration 89, loss = 0.00064102\n",
            "Iteration 90, loss = 0.00062841\n",
            "Training loss did not improve more than tol=0.000100 for 10 consecutive epochs. Stopping.\n"
          ]
        },
        {
          "output_type": "execute_result",
          "data": {
            "text/plain": [
              "MLPClassifier(batch_size=512, hidden_layer_sizes=100, max_iter=300,\n",
              "              verbose=True)"
            ]
          },
          "metadata": {},
          "execution_count": 19
        }
      ]
    },
    {
      "cell_type": "code",
      "source": [
        "#테스트 집합으로 예측\n",
        "res=mlp.predict(x_test)"
      ],
      "metadata": {
        "id": "i07Wnmv19s7-"
      },
      "execution_count": null,
      "outputs": []
    },
    {
      "cell_type": "code",
      "source": [
        "#혼동 행렬\n",
        "conf=np.zeros((10,10),dtype=np.int16)\n",
        "for i in range(len(res)):\n",
        "  conf[res[i]][y_test[i]]+=1\n",
        "print(conf)"
      ],
      "metadata": {
        "colab": {
          "base_uri": "https://localhost:8080/"
        },
        "id": "eeoBYn-t98dw",
        "outputId": "b28113fb-e004-41a6-feee-71d23eae416c"
      },
      "execution_count": null,
      "outputs": [
        {
          "output_type": "stream",
          "name": "stdout",
          "text": [
            "[[ 970    0    4    0    2    2    6    0    5    3]\n",
            " [   0 1126    0    0    0    0    2    5    0    2]\n",
            " [   1    4 1010    3    5    0    3   10    4    0]\n",
            " [   0    0    2  990    0    8    0    2    4    3]\n",
            " [   1    0    3    0  962    2    3    1    6   10]\n",
            " [   2    1    0    5    0  873    6    1    4    2]\n",
            " [   0    1    2    0    4    2  936    0    1    0]\n",
            " [   1    1    4    3    0    1    0  999    3    6]\n",
            " [   3    2    6    4    2    3    2    4  943    5]\n",
            " [   2    0    1    5    7    1    0    6    4  978]]\n"
          ]
        }
      ]
    },
    {
      "cell_type": "code",
      "source": [
        "#정확률 계산\n",
        "no_correct=0\n",
        "for i in range(10):\n",
        "  no_correct+=conf[i][i]\n",
        "accuracy=no_correct/len(res)\n",
        "print(\"테스트 집합에 대한 정확률은 \", accuracy*100,\"입니다\")"
      ],
      "metadata": {
        "colab": {
          "base_uri": "https://localhost:8080/"
        },
        "id": "DY6ZOJFg-PKP",
        "outputId": "9b706db3-0cb2-4fad-f482-5c4b3aa173a2"
      },
      "execution_count": null,
      "outputs": [
        {
          "output_type": "stream",
          "name": "stdout",
          "text": [
            "테스트 집합에 대한 정확률은  97.87 입니다\n"
          ]
        }
      ]
    },
    {
      "cell_type": "code",
      "source": [
        "#데이터셋을 읽고 훈련 집합과 테스트 집합으로 분할\n",
        "digit = datasets.load_digits()\n",
        "x_train, x_test, y_train, y_test = train_test_split(digit.data,digit.target,train_size = 0.6)"
      ],
      "metadata": {
        "id": "nCYREAjP-iWJ"
      },
      "execution_count": null,
      "outputs": []
    },
    {
      "cell_type": "code",
      "source": [
        "#다층 퍼셉트론을 교차 검증으로 성능 평가(소요 시간 측정 포함)\n",
        "start = time.time()\n",
        "mlp=MLPClassifier(learning_rate_init=0.001,batch_size=32,max_iter=300,solver='sgd')\n",
        "prange=range(50,1001,50)\n",
        "train_score,test_score=validation_curve(mlp,x_train,y_train,param_name=\"hidden_layer_sizes\",param_range=prange,cv=10,scoring=\"accuracy\",n_jobs=4)\n",
        "end=time.time()\n",
        "print(\"하이퍼 매개변수 최적화에 걸린 시간은\",end-start,\"초입니다\")"
      ],
      "metadata": {
        "colab": {
          "base_uri": "https://localhost:8080/",
          "height": 400
        },
        "id": "vL92uZT6Ga9Z",
        "outputId": "fbb72aa5-de0a-46fe-a5a1-aae32213fdaf"
      },
      "execution_count": null,
      "outputs": [
        {
          "output_type": "error",
          "ename": "KeyboardInterrupt",
          "evalue": "ignored",
          "traceback": [
            "\u001b[0;31m---------------------------------------------------------------------------\u001b[0m",
            "\u001b[0;31mKeyboardInterrupt\u001b[0m                         Traceback (most recent call last)",
            "\u001b[0;32m<ipython-input-24-79dd84960ce7>\u001b[0m in \u001b[0;36m<module>\u001b[0;34m()\u001b[0m\n\u001b[1;32m      3\u001b[0m \u001b[0mmlp\u001b[0m\u001b[0;34m=\u001b[0m\u001b[0mMLPClassifier\u001b[0m\u001b[0;34m(\u001b[0m\u001b[0mlearning_rate_init\u001b[0m\u001b[0;34m=\u001b[0m\u001b[0;36m0.001\u001b[0m\u001b[0;34m,\u001b[0m\u001b[0mbatch_size\u001b[0m\u001b[0;34m=\u001b[0m\u001b[0;36m32\u001b[0m\u001b[0;34m,\u001b[0m\u001b[0mmax_iter\u001b[0m\u001b[0;34m=\u001b[0m\u001b[0;36m300\u001b[0m\u001b[0;34m,\u001b[0m\u001b[0msolver\u001b[0m\u001b[0;34m=\u001b[0m\u001b[0;34m'sgd'\u001b[0m\u001b[0;34m)\u001b[0m\u001b[0;34m\u001b[0m\u001b[0;34m\u001b[0m\u001b[0m\n\u001b[1;32m      4\u001b[0m \u001b[0mprange\u001b[0m\u001b[0;34m=\u001b[0m\u001b[0mrange\u001b[0m\u001b[0;34m(\u001b[0m\u001b[0;36m50\u001b[0m\u001b[0;34m,\u001b[0m\u001b[0;36m1001\u001b[0m\u001b[0;34m,\u001b[0m\u001b[0;36m50\u001b[0m\u001b[0;34m)\u001b[0m\u001b[0;34m\u001b[0m\u001b[0;34m\u001b[0m\u001b[0m\n\u001b[0;32m----> 5\u001b[0;31m \u001b[0mtrain_score\u001b[0m\u001b[0;34m,\u001b[0m\u001b[0mtest_score\u001b[0m\u001b[0;34m=\u001b[0m\u001b[0mvalidation_curve\u001b[0m\u001b[0;34m(\u001b[0m\u001b[0mmlp\u001b[0m\u001b[0;34m,\u001b[0m\u001b[0mx_train\u001b[0m\u001b[0;34m,\u001b[0m\u001b[0my_train\u001b[0m\u001b[0;34m,\u001b[0m\u001b[0mparam_name\u001b[0m\u001b[0;34m=\u001b[0m\u001b[0;34m\"hidden_layer_sizes\"\u001b[0m\u001b[0;34m,\u001b[0m\u001b[0mparam_range\u001b[0m\u001b[0;34m=\u001b[0m\u001b[0mprange\u001b[0m\u001b[0;34m,\u001b[0m\u001b[0mcv\u001b[0m\u001b[0;34m=\u001b[0m\u001b[0;36m10\u001b[0m\u001b[0;34m,\u001b[0m\u001b[0mscoring\u001b[0m\u001b[0;34m=\u001b[0m\u001b[0;34m\"accuracy\"\u001b[0m\u001b[0;34m,\u001b[0m\u001b[0mn_jobs\u001b[0m\u001b[0;34m=\u001b[0m\u001b[0;36m4\u001b[0m\u001b[0;34m)\u001b[0m\u001b[0;34m\u001b[0m\u001b[0;34m\u001b[0m\u001b[0m\n\u001b[0m\u001b[1;32m      6\u001b[0m \u001b[0mend\u001b[0m\u001b[0;34m=\u001b[0m\u001b[0mtime\u001b[0m\u001b[0;34m.\u001b[0m\u001b[0mtime\u001b[0m\u001b[0;34m(\u001b[0m\u001b[0;34m)\u001b[0m\u001b[0;34m\u001b[0m\u001b[0;34m\u001b[0m\u001b[0m\n\u001b[1;32m      7\u001b[0m \u001b[0mprint\u001b[0m\u001b[0;34m(\u001b[0m\u001b[0;34m\"하이퍼 매개변수 최적화에 걸린 시간은\"\u001b[0m\u001b[0;34m,\u001b[0m\u001b[0mend\u001b[0m\u001b[0;34m-\u001b[0m\u001b[0mstart\u001b[0m\u001b[0;34m,\u001b[0m\u001b[0;34m\"초입니다\"\u001b[0m\u001b[0;34m)\u001b[0m\u001b[0;34m\u001b[0m\u001b[0;34m\u001b[0m\u001b[0m\n",
            "\u001b[0;32m/usr/local/lib/python3.7/dist-packages/sklearn/model_selection/_validation.py\u001b[0m in \u001b[0;36mvalidation_curve\u001b[0;34m(estimator, X, y, param_name, param_range, groups, cv, scoring, n_jobs, pre_dispatch, verbose, error_score, fit_params)\u001b[0m\n\u001b[1;32m   1844\u001b[0m         )\n\u001b[1;32m   1845\u001b[0m         \u001b[0;31m# NOTE do not change order of iteration to allow one time cv splitters\u001b[0m\u001b[0;34m\u001b[0m\u001b[0;34m\u001b[0m\u001b[0;34m\u001b[0m\u001b[0m\n\u001b[0;32m-> 1846\u001b[0;31m         \u001b[0;32mfor\u001b[0m \u001b[0mtrain\u001b[0m\u001b[0;34m,\u001b[0m \u001b[0mtest\u001b[0m \u001b[0;32min\u001b[0m \u001b[0mcv\u001b[0m\u001b[0;34m.\u001b[0m\u001b[0msplit\u001b[0m\u001b[0;34m(\u001b[0m\u001b[0mX\u001b[0m\u001b[0;34m,\u001b[0m \u001b[0my\u001b[0m\u001b[0;34m,\u001b[0m \u001b[0mgroups\u001b[0m\u001b[0;34m)\u001b[0m\u001b[0;34m\u001b[0m\u001b[0;34m\u001b[0m\u001b[0m\n\u001b[0m\u001b[1;32m   1847\u001b[0m         \u001b[0;32mfor\u001b[0m \u001b[0mv\u001b[0m \u001b[0;32min\u001b[0m \u001b[0mparam_range\u001b[0m\u001b[0;34m\u001b[0m\u001b[0;34m\u001b[0m\u001b[0m\n\u001b[1;32m   1848\u001b[0m     )\n",
            "\u001b[0;32m/usr/local/lib/python3.7/dist-packages/joblib/parallel.py\u001b[0m in \u001b[0;36m__call__\u001b[0;34m(self, iterable)\u001b[0m\n\u001b[1;32m   1054\u001b[0m \u001b[0;34m\u001b[0m\u001b[0m\n\u001b[1;32m   1055\u001b[0m             \u001b[0;32mwith\u001b[0m \u001b[0mself\u001b[0m\u001b[0;34m.\u001b[0m\u001b[0m_backend\u001b[0m\u001b[0;34m.\u001b[0m\u001b[0mretrieval_context\u001b[0m\u001b[0;34m(\u001b[0m\u001b[0;34m)\u001b[0m\u001b[0;34m:\u001b[0m\u001b[0;34m\u001b[0m\u001b[0;34m\u001b[0m\u001b[0m\n\u001b[0;32m-> 1056\u001b[0;31m                 \u001b[0mself\u001b[0m\u001b[0;34m.\u001b[0m\u001b[0mretrieve\u001b[0m\u001b[0;34m(\u001b[0m\u001b[0;34m)\u001b[0m\u001b[0;34m\u001b[0m\u001b[0;34m\u001b[0m\u001b[0m\n\u001b[0m\u001b[1;32m   1057\u001b[0m             \u001b[0;31m# Make sure that we get a last message telling us we are done\u001b[0m\u001b[0;34m\u001b[0m\u001b[0;34m\u001b[0m\u001b[0;34m\u001b[0m\u001b[0m\n\u001b[1;32m   1058\u001b[0m             \u001b[0melapsed_time\u001b[0m \u001b[0;34m=\u001b[0m \u001b[0mtime\u001b[0m\u001b[0;34m.\u001b[0m\u001b[0mtime\u001b[0m\u001b[0;34m(\u001b[0m\u001b[0;34m)\u001b[0m \u001b[0;34m-\u001b[0m \u001b[0mself\u001b[0m\u001b[0;34m.\u001b[0m\u001b[0m_start_time\u001b[0m\u001b[0;34m\u001b[0m\u001b[0;34m\u001b[0m\u001b[0m\n",
            "\u001b[0;32m/usr/local/lib/python3.7/dist-packages/joblib/parallel.py\u001b[0m in \u001b[0;36mretrieve\u001b[0;34m(self)\u001b[0m\n\u001b[1;32m    933\u001b[0m             \u001b[0;32mtry\u001b[0m\u001b[0;34m:\u001b[0m\u001b[0;34m\u001b[0m\u001b[0;34m\u001b[0m\u001b[0m\n\u001b[1;32m    934\u001b[0m                 \u001b[0;32mif\u001b[0m \u001b[0mgetattr\u001b[0m\u001b[0;34m(\u001b[0m\u001b[0mself\u001b[0m\u001b[0;34m.\u001b[0m\u001b[0m_backend\u001b[0m\u001b[0;34m,\u001b[0m \u001b[0;34m'supports_timeout'\u001b[0m\u001b[0;34m,\u001b[0m \u001b[0;32mFalse\u001b[0m\u001b[0;34m)\u001b[0m\u001b[0;34m:\u001b[0m\u001b[0;34m\u001b[0m\u001b[0;34m\u001b[0m\u001b[0m\n\u001b[0;32m--> 935\u001b[0;31m                     \u001b[0mself\u001b[0m\u001b[0;34m.\u001b[0m\u001b[0m_output\u001b[0m\u001b[0;34m.\u001b[0m\u001b[0mextend\u001b[0m\u001b[0;34m(\u001b[0m\u001b[0mjob\u001b[0m\u001b[0;34m.\u001b[0m\u001b[0mget\u001b[0m\u001b[0;34m(\u001b[0m\u001b[0mtimeout\u001b[0m\u001b[0;34m=\u001b[0m\u001b[0mself\u001b[0m\u001b[0;34m.\u001b[0m\u001b[0mtimeout\u001b[0m\u001b[0;34m)\u001b[0m\u001b[0;34m)\u001b[0m\u001b[0;34m\u001b[0m\u001b[0;34m\u001b[0m\u001b[0m\n\u001b[0m\u001b[1;32m    936\u001b[0m                 \u001b[0;32melse\u001b[0m\u001b[0;34m:\u001b[0m\u001b[0;34m\u001b[0m\u001b[0;34m\u001b[0m\u001b[0m\n\u001b[1;32m    937\u001b[0m                     \u001b[0mself\u001b[0m\u001b[0;34m.\u001b[0m\u001b[0m_output\u001b[0m\u001b[0;34m.\u001b[0m\u001b[0mextend\u001b[0m\u001b[0;34m(\u001b[0m\u001b[0mjob\u001b[0m\u001b[0;34m.\u001b[0m\u001b[0mget\u001b[0m\u001b[0;34m(\u001b[0m\u001b[0;34m)\u001b[0m\u001b[0;34m)\u001b[0m\u001b[0;34m\u001b[0m\u001b[0;34m\u001b[0m\u001b[0m\n",
            "\u001b[0;32m/usr/local/lib/python3.7/dist-packages/joblib/_parallel_backends.py\u001b[0m in \u001b[0;36mwrap_future_result\u001b[0;34m(future, timeout)\u001b[0m\n\u001b[1;32m    540\u001b[0m         AsyncResults.get from multiprocessing.\"\"\"\n\u001b[1;32m    541\u001b[0m         \u001b[0;32mtry\u001b[0m\u001b[0;34m:\u001b[0m\u001b[0;34m\u001b[0m\u001b[0;34m\u001b[0m\u001b[0m\n\u001b[0;32m--> 542\u001b[0;31m             \u001b[0;32mreturn\u001b[0m \u001b[0mfuture\u001b[0m\u001b[0;34m.\u001b[0m\u001b[0mresult\u001b[0m\u001b[0;34m(\u001b[0m\u001b[0mtimeout\u001b[0m\u001b[0;34m=\u001b[0m\u001b[0mtimeout\u001b[0m\u001b[0;34m)\u001b[0m\u001b[0;34m\u001b[0m\u001b[0;34m\u001b[0m\u001b[0m\n\u001b[0m\u001b[1;32m    543\u001b[0m         \u001b[0;32mexcept\u001b[0m \u001b[0mCfTimeoutError\u001b[0m \u001b[0;32mas\u001b[0m \u001b[0me\u001b[0m\u001b[0;34m:\u001b[0m\u001b[0;34m\u001b[0m\u001b[0;34m\u001b[0m\u001b[0m\n\u001b[1;32m    544\u001b[0m             \u001b[0;32mraise\u001b[0m \u001b[0mTimeoutError\u001b[0m \u001b[0;32mfrom\u001b[0m \u001b[0me\u001b[0m\u001b[0;34m\u001b[0m\u001b[0;34m\u001b[0m\u001b[0m\n",
            "\u001b[0;32m/usr/lib/python3.7/concurrent/futures/_base.py\u001b[0m in \u001b[0;36mresult\u001b[0;34m(self, timeout)\u001b[0m\n\u001b[1;32m    428\u001b[0m                 \u001b[0;32mreturn\u001b[0m \u001b[0mself\u001b[0m\u001b[0;34m.\u001b[0m\u001b[0m__get_result\u001b[0m\u001b[0;34m(\u001b[0m\u001b[0;34m)\u001b[0m\u001b[0;34m\u001b[0m\u001b[0;34m\u001b[0m\u001b[0m\n\u001b[1;32m    429\u001b[0m \u001b[0;34m\u001b[0m\u001b[0m\n\u001b[0;32m--> 430\u001b[0;31m             \u001b[0mself\u001b[0m\u001b[0;34m.\u001b[0m\u001b[0m_condition\u001b[0m\u001b[0;34m.\u001b[0m\u001b[0mwait\u001b[0m\u001b[0;34m(\u001b[0m\u001b[0mtimeout\u001b[0m\u001b[0;34m)\u001b[0m\u001b[0;34m\u001b[0m\u001b[0;34m\u001b[0m\u001b[0m\n\u001b[0m\u001b[1;32m    431\u001b[0m \u001b[0;34m\u001b[0m\u001b[0m\n\u001b[1;32m    432\u001b[0m             \u001b[0;32mif\u001b[0m \u001b[0mself\u001b[0m\u001b[0;34m.\u001b[0m\u001b[0m_state\u001b[0m \u001b[0;32min\u001b[0m \u001b[0;34m[\u001b[0m\u001b[0mCANCELLED\u001b[0m\u001b[0;34m,\u001b[0m \u001b[0mCANCELLED_AND_NOTIFIED\u001b[0m\u001b[0;34m]\u001b[0m\u001b[0;34m:\u001b[0m\u001b[0;34m\u001b[0m\u001b[0;34m\u001b[0m\u001b[0m\n",
            "\u001b[0;32m/usr/lib/python3.7/threading.py\u001b[0m in \u001b[0;36mwait\u001b[0;34m(self, timeout)\u001b[0m\n\u001b[1;32m    294\u001b[0m         \u001b[0;32mtry\u001b[0m\u001b[0;34m:\u001b[0m    \u001b[0;31m# restore state no matter what (e.g., KeyboardInterrupt)\u001b[0m\u001b[0;34m\u001b[0m\u001b[0;34m\u001b[0m\u001b[0m\n\u001b[1;32m    295\u001b[0m             \u001b[0;32mif\u001b[0m \u001b[0mtimeout\u001b[0m \u001b[0;32mis\u001b[0m \u001b[0;32mNone\u001b[0m\u001b[0;34m:\u001b[0m\u001b[0;34m\u001b[0m\u001b[0;34m\u001b[0m\u001b[0m\n\u001b[0;32m--> 296\u001b[0;31m                 \u001b[0mwaiter\u001b[0m\u001b[0;34m.\u001b[0m\u001b[0macquire\u001b[0m\u001b[0;34m(\u001b[0m\u001b[0;34m)\u001b[0m\u001b[0;34m\u001b[0m\u001b[0;34m\u001b[0m\u001b[0m\n\u001b[0m\u001b[1;32m    297\u001b[0m                 \u001b[0mgotit\u001b[0m \u001b[0;34m=\u001b[0m \u001b[0;32mTrue\u001b[0m\u001b[0;34m\u001b[0m\u001b[0;34m\u001b[0m\u001b[0m\n\u001b[1;32m    298\u001b[0m             \u001b[0;32melse\u001b[0m\u001b[0;34m:\u001b[0m\u001b[0;34m\u001b[0m\u001b[0;34m\u001b[0m\u001b[0m\n",
            "\u001b[0;31mKeyboardInterrupt\u001b[0m: "
          ]
        }
      ]
    },
    {
      "cell_type": "code",
      "source": [
        "#교차 검증 결과의 편균과 분산 구하기\n",
        "train_mean = np.mean(train_score,axis=1)\n",
        "train_std = np.std(train_score,axis=1)\n",
        "test_mean = np.mean(test_score,axis=1)\n",
        "test_std = np.std(test_score,axis=1)"
      ],
      "metadata": {
        "id": "1ABOcF3dHKjQ"
      },
      "execution_count": null,
      "outputs": []
    },
    {
      "cell_type": "code",
      "source": [
        "#성능 그래프 그리기\n",
        "plt.plot(prange,train_mean,label=\"Train score\",color=\"r\")\n",
        "plt.plot(prange,test_mean,label=\"Test score\",color=\"b\")\n",
        "plt.fill_between(prange, train_mean-train_std,train_mean+train_std,alpha=0.2,color=\"r\")\n",
        "plt.fill_between(prange, test_mean-test_std,test_mean+test_std,alpha=0.2,color=\"b\")\n",
        "plt.legend(loc=\"best\")\n",
        "plt.title(\"Validation Curve with MLP\")\n",
        "plt.xlabel(\"Number of hidden nodes\")\n",
        "plt.ylabel(\"Accuracy\")\n",
        "plt.ylim(0.9,1.01)\n",
        "plt.grid(axis='both')\n",
        "plt.show()"
      ],
      "metadata": {
        "id": "mnL4AyY-Hxdj"
      },
      "execution_count": null,
      "outputs": []
    },
    {
      "cell_type": "code",
      "source": [
        "best_number_nodes=prange[np.argmax(test_mean)]\n",
        "print('\\n최적의 은닉층의 노드 개수는',best_number_nodes,\"개입니다.\\n\")"
      ],
      "metadata": {
        "id": "wWmlOkaoJArW"
      },
      "execution_count": null,
      "outputs": []
    },
    {
      "cell_type": "code",
      "source": [
        "#최적의 은닉 노드 개수로 모델링\n",
        "mlp_test=MLPClassifier(hidden_layer_sizer=(best_number_nodes),learning_rate_init=0.001,batch_size=32,max_iter=300,solver='sgd')\n",
        "mlp_test.fit(x_train,y_train)"
      ],
      "metadata": {
        "id": "MWQCEaJ9JQnD"
      },
      "execution_count": null,
      "outputs": []
    },
    {
      "cell_type": "code",
      "source": [
        "#테스트 집합으로 예측\n",
        "res=mlp_test.predict(x_test)"
      ],
      "metadata": {
        "id": "H7nqCeLoJnuY"
      },
      "execution_count": null,
      "outputs": []
    },
    {
      "cell_type": "code",
      "source": [
        "#혼동 행렬\n",
        "conf=np.zeros((10,10))\n",
        "for i in range(len(res)):\n",
        "  conf[res[i]][y_test[i]]+=1\n",
        "print(conf)"
      ],
      "metadata": {
        "id": "EYDNOsCGJxVI"
      },
      "execution_count": null,
      "outputs": []
    },
    {
      "cell_type": "code",
      "source": [
        "#적확률 계산\n",
        "no_correct=0\n",
        "for i in range(10):\n",
        "  no_correct += no_correct + conf[i][i]\n",
        "accuracy = no_correct/len(res)\n",
        "print(\"테스트 집합에 대한 정확률은 \",accuracy * 100,\"%입니다. \")"
      ],
      "metadata": {
        "id": "rJ1YR1G0KBm4"
      },
      "execution_count": null,
      "outputs": []
    },
    {
      "cell_type": "code",
      "source": [
        "import tensorflow as tf\n",
        "import tensorflow.keras.datasets as ds"
      ],
      "metadata": {
        "id": "oyDO0nD0KW3Z"
      },
      "execution_count": null,
      "outputs": []
    },
    {
      "cell_type": "code",
      "source": [
        "#MNIST 읽고 텐서 모양 출력\n",
        "(x_train, y_train),(x_test, y_test)=ds.mnist.load_data()\n",
        "yy_train=tf.one_hot(y_train,10,dtype=tf.int8)\n",
        "print(\"MNIST: \",x_train.shape,y_train.shape,yy_train.shape)"
      ],
      "metadata": {
        "colab": {
          "base_uri": "https://localhost:8080/"
        },
        "id": "wUYsiKgGN_hW",
        "outputId": "540b4632-7c7b-42a8-c482-e9b7ff030fe7"
      },
      "execution_count": null,
      "outputs": [
        {
          "output_type": "stream",
          "name": "stdout",
          "text": [
            "Downloading data from https://storage.googleapis.com/tensorflow/tf-keras-datasets/mnist.npz\n",
            "11493376/11490434 [==============================] - 0s 0us/step\n",
            "11501568/11490434 [==============================] - 0s 0us/step\n",
            "MNIST:  (60000, 28, 28) (60000,) (60000, 10)\n"
          ]
        }
      ]
    },
    {
      "cell_type": "code",
      "source": [
        "#CIFAR-10 읽고 텐서 모양 출력\n",
        "(x_train, y_train),(x_test, y_test)=ds.cifar10.load_data()\n",
        "yy_train=tf.one_hot(y_train,10,dtype=tf.int8)\n",
        "print(\"CIFAR-10: \",x_train.shape,y_train.shape,yy_train.shape)"
      ],
      "metadata": {
        "colab": {
          "base_uri": "https://localhost:8080/"
        },
        "id": "6ASYx7BeOh5k",
        "outputId": "20af28ad-fc11-4d6f-f6b9-8ef55438ead2"
      },
      "execution_count": null,
      "outputs": [
        {
          "output_type": "stream",
          "name": "stdout",
          "text": [
            "Downloading data from https://www.cs.toronto.edu/~kriz/cifar-10-python.tar.gz\n",
            "170500096/170498071 [==============================] - 3s 0us/step\n",
            "170508288/170498071 [==============================] - 3s 0us/step\n",
            "CIFAR-10:  (50000, 32, 32, 3) (50000, 1) (50000, 1, 10)\n"
          ]
        }
      ]
    },
    {
      "cell_type": "code",
      "source": [
        "#Boston Housing 읽고 텐서 모양 출력\n",
        "(x_train, y_train),(x_test, y_test)=ds.boston_housing.load_data()\n",
        "print(\"Boston Housing: \",x_train.shape,y_train.shape)"
      ],
      "metadata": {
        "colab": {
          "base_uri": "https://localhost:8080/"
        },
        "id": "RZEY9IWIPAUr",
        "outputId": "a55a923f-43dc-44d2-964f-c4f11275d92c"
      },
      "execution_count": null,
      "outputs": [
        {
          "output_type": "stream",
          "name": "stdout",
          "text": [
            "Boston Housing:  (404, 13) (404,)\n"
          ]
        }
      ]
    },
    {
      "cell_type": "code",
      "source": [
        "#Reuters 읽고 텐서 모양 출력\n",
        "(x_train,y_train),(x_test,y_test)=ds.reuters.load_data()\n",
        "print(\"Reuters: \", x_train.shape,y_train.shape)"
      ],
      "metadata": {
        "colab": {
          "base_uri": "https://localhost:8080/"
        },
        "id": "OX2V_9aKPR_q",
        "outputId": "3e389aa9-6451-4008-b9c5-cb4a40841374"
      },
      "execution_count": null,
      "outputs": [
        {
          "output_type": "stream",
          "name": "stdout",
          "text": [
            "Downloading data from https://storage.googleapis.com/tensorflow/tf-keras-datasets/reuters.npz\n",
            "2113536/2110848 [==============================] - 0s 0us/step\n",
            "2121728/2110848 [==============================] - 0s 0us/step\n",
            "Reuters:  (8982,) (8982,)\n"
          ]
        }
      ]
    },
    {
      "cell_type": "code",
      "source": [
        "'''딥러닝'''"
      ],
      "metadata": {
        "colab": {
          "base_uri": "https://localhost:8080/",
          "height": 35
        },
        "id": "GODuVt1OPgqT",
        "outputId": "98e339b0-b74d-48da-b0c1-8ed1a15728a5"
      },
      "execution_count": null,
      "outputs": [
        {
          "output_type": "execute_result",
          "data": {
            "application/vnd.google.colaboratory.intrinsic+json": {
              "type": "string"
            },
            "text/plain": [
              "'딥러닝'"
            ]
          },
          "metadata": {},
          "execution_count": 31
        }
      ]
    },
    {
      "cell_type": "code",
      "source": [
        "import tensorflow as tf"
      ],
      "metadata": {
        "id": "AdOyaUBeZ40I"
      },
      "execution_count": null,
      "outputs": []
    },
    {
      "cell_type": "code",
      "source": [
        "#OR 데이터 구축\n",
        "x=[[0.0,0.0],[0.0,1.0],[1.0,0.0],[1.0,1.0]]\n",
        "y=[[-1],[1],[1],[1]]"
      ],
      "metadata": {
        "id": "lo3SFwkHZ8gZ"
      },
      "execution_count": null,
      "outputs": []
    },
    {
      "cell_type": "code",
      "source": [
        "w=tf.Variable([[1.0],[1.0]])\n",
        "b=tf.Variable(-0.5)"
      ],
      "metadata": {
        "id": "O2G752hhaGjE"
      },
      "execution_count": null,
      "outputs": []
    },
    {
      "cell_type": "code",
      "source": [
        "s=tf.add(tf.matmul(x,w),b)\n",
        "o=tf.sign(s)\n",
        "\n",
        "print(o)"
      ],
      "metadata": {
        "colab": {
          "base_uri": "https://localhost:8080/"
        },
        "id": "braJHS3DaQRE",
        "outputId": "87a8c886-05b7-4696-e264-54ad4f2bee15"
      },
      "execution_count": null,
      "outputs": [
        {
          "output_type": "stream",
          "name": "stdout",
          "text": [
            "tf.Tensor(\n",
            "[[-1.]\n",
            " [ 1.]\n",
            " [ 1.]\n",
            " [ 1.]], shape=(4, 1), dtype=float32)\n"
          ]
        }
      ]
    },
    {
      "cell_type": "code",
      "source": [
        "#텐서플로 프로그래밍:퍼셉트론 학습\n",
        "import tensorflow as tf"
      ],
      "metadata": {
        "id": "bf51dsOjaW_Z"
      },
      "execution_count": null,
      "outputs": []
    },
    {
      "cell_type": "code",
      "source": [
        "#OR 데이터 구축\n",
        "x=[[0.0,0.0],[0.0,1.0],[1.0,0.0],[1.0,1.0]]\n",
        "y=[[-1],[1],[1],[1]]"
      ],
      "metadata": {
        "id": "--I6vV3ojv4k"
      },
      "execution_count": null,
      "outputs": []
    },
    {
      "cell_type": "code",
      "source": [
        "#가충치 초기화\n",
        "w=tf.Variable(tf.random.uniform([2,1],-0.5,0.5))\n",
        "b=tf.Variable(tf.zeros([1]))"
      ],
      "metadata": {
        "id": "z2sv2WOoj5md"
      },
      "execution_count": null,
      "outputs": []
    },
    {
      "cell_type": "code",
      "source": [
        "#옵티마이저\n",
        "opt=tf.keras.optimizers.SGD(learning_rate=0.1)"
      ],
      "metadata": {
        "id": "8WvHNSUCkFxR"
      },
      "execution_count": null,
      "outputs": []
    },
    {
      "cell_type": "code",
      "source": [
        "#전방 계산\n",
        "def forward():\n",
        "  s=tf.add(tf.matmul(x,w),b)\n",
        "  o=tf.tanh(s)\n",
        "  return o"
      ],
      "metadata": {
        "id": "8B75oxsukMK4"
      },
      "execution_count": null,
      "outputs": []
    },
    {
      "cell_type": "code",
      "source": [
        "#손실 함수 정의\n",
        "def loss():\n",
        "  o=forward()\n",
        "  return tf.reduce_mean((y-o**2))"
      ],
      "metadata": {
        "id": "rwBuUTrkkaKo"
      },
      "execution_count": null,
      "outputs": []
    },
    {
      "cell_type": "code",
      "source": [
        "#500 세대까지 학습(100세대마다 학습 정보 출력)\n",
        "for i in range(500):\n",
        "  opt.minimize(loss, var_list=[w,b])\n",
        "  if(i%100==0): print('loss at epoch',i,'=',loss().numpy())"
      ],
      "metadata": {
        "colab": {
          "base_uri": "https://localhost:8080/"
        },
        "id": "YhSm9DxfkjkH",
        "outputId": "6bae952b-ac83-495d-f482-32754203c74c"
      },
      "execution_count": null,
      "outputs": [
        {
          "output_type": "stream",
          "name": "stdout",
          "text": [
            "loss at epoch 0 = 0.40583074\n",
            "loss at epoch 100 = -0.4710221\n",
            "loss at epoch 200 = -0.4869311\n",
            "loss at epoch 300 = -0.49155843\n",
            "loss at epoch 400 = -0.49376237\n"
          ]
        }
      ]
    },
    {
      "cell_type": "code",
      "source": [
        "#학습된 퍼셉트론으로 OR 데이터를 예측\n",
        "o=forward()\n",
        "print(o)"
      ],
      "metadata": {
        "colab": {
          "base_uri": "https://localhost:8080/"
        },
        "id": "6j0xD5dbk2xY",
        "outputId": "14dea9cf-13c1-48e4-b07a-a98aa2c29f01"
      },
      "execution_count": null,
      "outputs": [
        {
          "output_type": "stream",
          "name": "stdout",
          "text": [
            "tf.Tensor(\n",
            "[[0.9928075]\n",
            " [0.997962 ]\n",
            " [0.9994431]\n",
            " [0.9998425]], shape=(4, 1), dtype=float32)\n"
          ]
        }
      ]
    },
    {
      "cell_type": "code",
      "source": [
        "#케라스 프로그래밍:퍼셉트론 학습\n",
        "from tensorflow.keras.models import Sequential\n",
        "from tensorflow.keras.layers import Dense\n",
        "from tensorflow.keras.optimizers import SGD"
      ],
      "metadata": {
        "id": "4HFfIFpElMdi"
      },
      "execution_count": null,
      "outputs": []
    },
    {
      "cell_type": "code",
      "source": [
        "#OR 데이터 구축\n",
        "x=[[0.0,0.0],[0.0,1.0],[1.0,0.0],[1.0,1.0]]\n",
        "y=[[-1],[1],[1],[1]]"
      ],
      "metadata": {
        "id": "O_H51S7tn3hk"
      },
      "execution_count": null,
      "outputs": []
    },
    {
      "cell_type": "code",
      "source": [
        "#신경망 구조 설계\n",
        "n_input=2\n",
        "n_output=1\n",
        "\n",
        "perceptron=Sequential()\n",
        "perceptron.add(Dense(units=n_output,activation='tanh',input_shape=(n_input,),kernel_initializer='random_uniform',bias_initializer='zeros'))"
      ],
      "metadata": {
        "id": "kNSm_Z3Bn6pD"
      },
      "execution_count": null,
      "outputs": []
    },
    {
      "cell_type": "code",
      "source": [
        "#신경망 학습\n",
        "perceptron.compile(loss='mse',optimizer=SGD\n",
        "(learning_rate=0.1),metrics=['mse'])\n",
        "perceptron.fit(x,y,epochs=500,verbose=2)"
      ],
      "metadata": {
        "id": "G9tTxxg-oaVW",
        "colab": {
          "base_uri": "https://localhost:8080/"
        },
        "outputId": "cfee443a-d136-4d97-be63-49c5bc52d5d9"
      },
      "execution_count": null,
      "outputs": [
        {
          "output_type": "stream",
          "name": "stdout",
          "text": [
            "Epoch 1/500\n",
            "1/1 - 0s - loss: 0.9293 - mse: 0.9293 - 454ms/epoch - 454ms/step\n",
            "Epoch 2/500\n",
            "1/1 - 0s - loss: 0.7119 - mse: 0.7119 - 3ms/epoch - 3ms/step\n",
            "Epoch 3/500\n",
            "1/1 - 0s - loss: 0.6173 - mse: 0.6173 - 11ms/epoch - 11ms/step\n",
            "Epoch 4/500\n",
            "1/1 - 0s - loss: 0.5693 - mse: 0.5693 - 3ms/epoch - 3ms/step\n",
            "Epoch 5/500\n",
            "1/1 - 0s - loss: 0.5394 - mse: 0.5394 - 4ms/epoch - 4ms/step\n",
            "Epoch 6/500\n",
            "1/1 - 0s - loss: 0.5174 - mse: 0.5174 - 3ms/epoch - 3ms/step\n",
            "Epoch 7/500\n",
            "1/1 - 0s - loss: 0.4995 - mse: 0.4995 - 3ms/epoch - 3ms/step\n",
            "Epoch 8/500\n",
            "1/1 - 0s - loss: 0.4838 - mse: 0.4838 - 3ms/epoch - 3ms/step\n",
            "Epoch 9/500\n",
            "1/1 - 0s - loss: 0.4695 - mse: 0.4695 - 4ms/epoch - 4ms/step\n",
            "Epoch 10/500\n",
            "1/1 - 0s - loss: 0.4561 - mse: 0.4561 - 3ms/epoch - 3ms/step\n",
            "Epoch 11/500\n",
            "1/1 - 0s - loss: 0.4434 - mse: 0.4434 - 3ms/epoch - 3ms/step\n",
            "Epoch 12/500\n",
            "1/1 - 0s - loss: 0.4313 - mse: 0.4313 - 3ms/epoch - 3ms/step\n",
            "Epoch 13/500\n",
            "1/1 - 0s - loss: 0.4196 - mse: 0.4196 - 3ms/epoch - 3ms/step\n",
            "Epoch 14/500\n",
            "1/1 - 0s - loss: 0.4084 - mse: 0.4084 - 3ms/epoch - 3ms/step\n",
            "Epoch 15/500\n",
            "1/1 - 0s - loss: 0.3976 - mse: 0.3976 - 3ms/epoch - 3ms/step\n",
            "Epoch 16/500\n",
            "1/1 - 0s - loss: 0.3871 - mse: 0.3871 - 3ms/epoch - 3ms/step\n",
            "Epoch 17/500\n",
            "1/1 - 0s - loss: 0.3771 - mse: 0.3771 - 6ms/epoch - 6ms/step\n",
            "Epoch 18/500\n",
            "1/1 - 0s - loss: 0.3674 - mse: 0.3674 - 3ms/epoch - 3ms/step\n",
            "Epoch 19/500\n",
            "1/1 - 0s - loss: 0.3580 - mse: 0.3580 - 3ms/epoch - 3ms/step\n",
            "Epoch 20/500\n",
            "1/1 - 0s - loss: 0.3490 - mse: 0.3490 - 3ms/epoch - 3ms/step\n",
            "Epoch 21/500\n",
            "1/1 - 0s - loss: 0.3403 - mse: 0.3403 - 3ms/epoch - 3ms/step\n",
            "Epoch 22/500\n",
            "1/1 - 0s - loss: 0.3319 - mse: 0.3319 - 3ms/epoch - 3ms/step\n",
            "Epoch 23/500\n",
            "1/1 - 0s - loss: 0.3238 - mse: 0.3238 - 3ms/epoch - 3ms/step\n",
            "Epoch 24/500\n",
            "1/1 - 0s - loss: 0.3160 - mse: 0.3160 - 4ms/epoch - 4ms/step\n",
            "Epoch 25/500\n",
            "1/1 - 0s - loss: 0.3085 - mse: 0.3085 - 3ms/epoch - 3ms/step\n",
            "Epoch 26/500\n",
            "1/1 - 0s - loss: 0.3012 - mse: 0.3012 - 7ms/epoch - 7ms/step\n",
            "Epoch 27/500\n",
            "1/1 - 0s - loss: 0.2942 - mse: 0.2942 - 3ms/epoch - 3ms/step\n",
            "Epoch 28/500\n",
            "1/1 - 0s - loss: 0.2875 - mse: 0.2875 - 3ms/epoch - 3ms/step\n",
            "Epoch 29/500\n",
            "1/1 - 0s - loss: 0.2810 - mse: 0.2810 - 3ms/epoch - 3ms/step\n",
            "Epoch 30/500\n",
            "1/1 - 0s - loss: 0.2747 - mse: 0.2747 - 7ms/epoch - 7ms/step\n",
            "Epoch 31/500\n",
            "1/1 - 0s - loss: 0.2686 - mse: 0.2686 - 3ms/epoch - 3ms/step\n",
            "Epoch 32/500\n",
            "1/1 - 0s - loss: 0.2628 - mse: 0.2628 - 3ms/epoch - 3ms/step\n",
            "Epoch 33/500\n",
            "1/1 - 0s - loss: 0.2571 - mse: 0.2571 - 3ms/epoch - 3ms/step\n",
            "Epoch 34/500\n",
            "1/1 - 0s - loss: 0.2517 - mse: 0.2517 - 4ms/epoch - 4ms/step\n",
            "Epoch 35/500\n",
            "1/1 - 0s - loss: 0.2464 - mse: 0.2464 - 3ms/epoch - 3ms/step\n",
            "Epoch 36/500\n",
            "1/1 - 0s - loss: 0.2413 - mse: 0.2413 - 3ms/epoch - 3ms/step\n",
            "Epoch 37/500\n",
            "1/1 - 0s - loss: 0.2363 - mse: 0.2363 - 8ms/epoch - 8ms/step\n",
            "Epoch 38/500\n",
            "1/1 - 0s - loss: 0.2315 - mse: 0.2315 - 3ms/epoch - 3ms/step\n",
            "Epoch 39/500\n",
            "1/1 - 0s - loss: 0.2269 - mse: 0.2269 - 6ms/epoch - 6ms/step\n",
            "Epoch 40/500\n",
            "1/1 - 0s - loss: 0.2224 - mse: 0.2224 - 3ms/epoch - 3ms/step\n",
            "Epoch 41/500\n",
            "1/1 - 0s - loss: 0.2181 - mse: 0.2181 - 3ms/epoch - 3ms/step\n",
            "Epoch 42/500\n",
            "1/1 - 0s - loss: 0.2139 - mse: 0.2139 - 3ms/epoch - 3ms/step\n",
            "Epoch 43/500\n",
            "1/1 - 0s - loss: 0.2098 - mse: 0.2098 - 4ms/epoch - 4ms/step\n",
            "Epoch 44/500\n",
            "1/1 - 0s - loss: 0.2059 - mse: 0.2059 - 3ms/epoch - 3ms/step\n",
            "Epoch 45/500\n",
            "1/1 - 0s - loss: 0.2020 - mse: 0.2020 - 3ms/epoch - 3ms/step\n",
            "Epoch 46/500\n",
            "1/1 - 0s - loss: 0.1983 - mse: 0.1983 - 3ms/epoch - 3ms/step\n",
            "Epoch 47/500\n",
            "1/1 - 0s - loss: 0.1947 - mse: 0.1947 - 4ms/epoch - 4ms/step\n",
            "Epoch 48/500\n",
            "1/1 - 0s - loss: 0.1912 - mse: 0.1912 - 4ms/epoch - 4ms/step\n",
            "Epoch 49/500\n",
            "1/1 - 0s - loss: 0.1878 - mse: 0.1878 - 7ms/epoch - 7ms/step\n",
            "Epoch 50/500\n",
            "1/1 - 0s - loss: 0.1845 - mse: 0.1845 - 8ms/epoch - 8ms/step\n",
            "Epoch 51/500\n",
            "1/1 - 0s - loss: 0.1813 - mse: 0.1813 - 3ms/epoch - 3ms/step\n",
            "Epoch 52/500\n",
            "1/1 - 0s - loss: 0.1782 - mse: 0.1782 - 6ms/epoch - 6ms/step\n",
            "Epoch 53/500\n",
            "1/1 - 0s - loss: 0.1752 - mse: 0.1752 - 7ms/epoch - 7ms/step\n",
            "Epoch 54/500\n",
            "1/1 - 0s - loss: 0.1723 - mse: 0.1723 - 3ms/epoch - 3ms/step\n",
            "Epoch 55/500\n",
            "1/1 - 0s - loss: 0.1694 - mse: 0.1694 - 3ms/epoch - 3ms/step\n",
            "Epoch 56/500\n",
            "1/1 - 0s - loss: 0.1666 - mse: 0.1666 - 3ms/epoch - 3ms/step\n",
            "Epoch 57/500\n",
            "1/1 - 0s - loss: 0.1639 - mse: 0.1639 - 4ms/epoch - 4ms/step\n",
            "Epoch 58/500\n",
            "1/1 - 0s - loss: 0.1613 - mse: 0.1613 - 3ms/epoch - 3ms/step\n",
            "Epoch 59/500\n",
            "1/1 - 0s - loss: 0.1587 - mse: 0.1587 - 5ms/epoch - 5ms/step\n",
            "Epoch 60/500\n",
            "1/1 - 0s - loss: 0.1562 - mse: 0.1562 - 3ms/epoch - 3ms/step\n",
            "Epoch 61/500\n",
            "1/1 - 0s - loss: 0.1538 - mse: 0.1538 - 6ms/epoch - 6ms/step\n",
            "Epoch 62/500\n",
            "1/1 - 0s - loss: 0.1514 - mse: 0.1514 - 3ms/epoch - 3ms/step\n",
            "Epoch 63/500\n",
            "1/1 - 0s - loss: 0.1491 - mse: 0.1491 - 3ms/epoch - 3ms/step\n",
            "Epoch 64/500\n",
            "1/1 - 0s - loss: 0.1469 - mse: 0.1469 - 4ms/epoch - 4ms/step\n",
            "Epoch 65/500\n",
            "1/1 - 0s - loss: 0.1447 - mse: 0.1447 - 3ms/epoch - 3ms/step\n",
            "Epoch 66/500\n",
            "1/1 - 0s - loss: 0.1426 - mse: 0.1426 - 3ms/epoch - 3ms/step\n",
            "Epoch 67/500\n",
            "1/1 - 0s - loss: 0.1405 - mse: 0.1405 - 3ms/epoch - 3ms/step\n",
            "Epoch 68/500\n",
            "1/1 - 0s - loss: 0.1384 - mse: 0.1384 - 3ms/epoch - 3ms/step\n",
            "Epoch 69/500\n",
            "1/1 - 0s - loss: 0.1365 - mse: 0.1365 - 6ms/epoch - 6ms/step\n",
            "Epoch 70/500\n",
            "1/1 - 0s - loss: 0.1345 - mse: 0.1345 - 3ms/epoch - 3ms/step\n",
            "Epoch 71/500\n",
            "1/1 - 0s - loss: 0.1326 - mse: 0.1326 - 3ms/epoch - 3ms/step\n",
            "Epoch 72/500\n",
            "1/1 - 0s - loss: 0.1308 - mse: 0.1308 - 3ms/epoch - 3ms/step\n",
            "Epoch 73/500\n",
            "1/1 - 0s - loss: 0.1290 - mse: 0.1290 - 3ms/epoch - 3ms/step\n",
            "Epoch 74/500\n",
            "1/1 - 0s - loss: 0.1272 - mse: 0.1272 - 3ms/epoch - 3ms/step\n",
            "Epoch 75/500\n",
            "1/1 - 0s - loss: 0.1255 - mse: 0.1255 - 4ms/epoch - 4ms/step\n",
            "Epoch 76/500\n",
            "1/1 - 0s - loss: 0.1239 - mse: 0.1239 - 3ms/epoch - 3ms/step\n",
            "Epoch 77/500\n",
            "1/1 - 0s - loss: 0.1222 - mse: 0.1222 - 5ms/epoch - 5ms/step\n",
            "Epoch 78/500\n",
            "1/1 - 0s - loss: 0.1206 - mse: 0.1206 - 4ms/epoch - 4ms/step\n",
            "Epoch 79/500\n",
            "1/1 - 0s - loss: 0.1190 - mse: 0.1190 - 3ms/epoch - 3ms/step\n",
            "Epoch 80/500\n",
            "1/1 - 0s - loss: 0.1175 - mse: 0.1175 - 5ms/epoch - 5ms/step\n",
            "Epoch 81/500\n",
            "1/1 - 0s - loss: 0.1160 - mse: 0.1160 - 3ms/epoch - 3ms/step\n",
            "Epoch 82/500\n",
            "1/1 - 0s - loss: 0.1146 - mse: 0.1146 - 4ms/epoch - 4ms/step\n",
            "Epoch 83/500\n",
            "1/1 - 0s - loss: 0.1131 - mse: 0.1131 - 3ms/epoch - 3ms/step\n",
            "Epoch 84/500\n",
            "1/1 - 0s - loss: 0.1117 - mse: 0.1117 - 5ms/epoch - 5ms/step\n",
            "Epoch 85/500\n",
            "1/1 - 0s - loss: 0.1103 - mse: 0.1103 - 3ms/epoch - 3ms/step\n",
            "Epoch 86/500\n",
            "1/1 - 0s - loss: 0.1090 - mse: 0.1090 - 3ms/epoch - 3ms/step\n",
            "Epoch 87/500\n",
            "1/1 - 0s - loss: 0.1077 - mse: 0.1077 - 3ms/epoch - 3ms/step\n",
            "Epoch 88/500\n",
            "1/1 - 0s - loss: 0.1064 - mse: 0.1064 - 3ms/epoch - 3ms/step\n",
            "Epoch 89/500\n",
            "1/1 - 0s - loss: 0.1051 - mse: 0.1051 - 3ms/epoch - 3ms/step\n",
            "Epoch 90/500\n",
            "1/1 - 0s - loss: 0.1039 - mse: 0.1039 - 3ms/epoch - 3ms/step\n",
            "Epoch 91/500\n",
            "1/1 - 0s - loss: 0.1027 - mse: 0.1027 - 3ms/epoch - 3ms/step\n",
            "Epoch 92/500\n",
            "1/1 - 0s - loss: 0.1015 - mse: 0.1015 - 3ms/epoch - 3ms/step\n",
            "Epoch 93/500\n",
            "1/1 - 0s - loss: 0.1003 - mse: 0.1003 - 3ms/epoch - 3ms/step\n",
            "Epoch 94/500\n",
            "1/1 - 0s - loss: 0.0992 - mse: 0.0992 - 3ms/epoch - 3ms/step\n",
            "Epoch 95/500\n",
            "1/1 - 0s - loss: 0.0981 - mse: 0.0981 - 3ms/epoch - 3ms/step\n",
            "Epoch 96/500\n",
            "1/1 - 0s - loss: 0.0970 - mse: 0.0970 - 4ms/epoch - 4ms/step\n",
            "Epoch 97/500\n",
            "1/1 - 0s - loss: 0.0959 - mse: 0.0959 - 3ms/epoch - 3ms/step\n",
            "Epoch 98/500\n",
            "1/1 - 0s - loss: 0.0949 - mse: 0.0949 - 3ms/epoch - 3ms/step\n",
            "Epoch 99/500\n",
            "1/1 - 0s - loss: 0.0938 - mse: 0.0938 - 3ms/epoch - 3ms/step\n",
            "Epoch 100/500\n",
            "1/1 - 0s - loss: 0.0928 - mse: 0.0928 - 3ms/epoch - 3ms/step\n",
            "Epoch 101/500\n",
            "1/1 - 0s - loss: 0.0918 - mse: 0.0918 - 3ms/epoch - 3ms/step\n",
            "Epoch 102/500\n",
            "1/1 - 0s - loss: 0.0909 - mse: 0.0909 - 4ms/epoch - 4ms/step\n",
            "Epoch 103/500\n",
            "1/1 - 0s - loss: 0.0899 - mse: 0.0899 - 3ms/epoch - 3ms/step\n",
            "Epoch 104/500\n",
            "1/1 - 0s - loss: 0.0890 - mse: 0.0890 - 3ms/epoch - 3ms/step\n",
            "Epoch 105/500\n",
            "1/1 - 0s - loss: 0.0880 - mse: 0.0880 - 3ms/epoch - 3ms/step\n",
            "Epoch 106/500\n",
            "1/1 - 0s - loss: 0.0871 - mse: 0.0871 - 3ms/epoch - 3ms/step\n",
            "Epoch 107/500\n",
            "1/1 - 0s - loss: 0.0862 - mse: 0.0862 - 3ms/epoch - 3ms/step\n",
            "Epoch 108/500\n",
            "1/1 - 0s - loss: 0.0854 - mse: 0.0854 - 3ms/epoch - 3ms/step\n",
            "Epoch 109/500\n",
            "1/1 - 0s - loss: 0.0845 - mse: 0.0845 - 3ms/epoch - 3ms/step\n",
            "Epoch 110/500\n",
            "1/1 - 0s - loss: 0.0837 - mse: 0.0837 - 7ms/epoch - 7ms/step\n",
            "Epoch 111/500\n",
            "1/1 - 0s - loss: 0.0828 - mse: 0.0828 - 3ms/epoch - 3ms/step\n",
            "Epoch 112/500\n",
            "1/1 - 0s - loss: 0.0820 - mse: 0.0820 - 3ms/epoch - 3ms/step\n",
            "Epoch 113/500\n",
            "1/1 - 0s - loss: 0.0812 - mse: 0.0812 - 3ms/epoch - 3ms/step\n",
            "Epoch 114/500\n",
            "1/1 - 0s - loss: 0.0804 - mse: 0.0804 - 3ms/epoch - 3ms/step\n",
            "Epoch 115/500\n",
            "1/1 - 0s - loss: 0.0797 - mse: 0.0797 - 4ms/epoch - 4ms/step\n",
            "Epoch 116/500\n",
            "1/1 - 0s - loss: 0.0789 - mse: 0.0789 - 3ms/epoch - 3ms/step\n",
            "Epoch 117/500\n",
            "1/1 - 0s - loss: 0.0782 - mse: 0.0782 - 3ms/epoch - 3ms/step\n",
            "Epoch 118/500\n",
            "1/1 - 0s - loss: 0.0774 - mse: 0.0774 - 3ms/epoch - 3ms/step\n",
            "Epoch 119/500\n",
            "1/1 - 0s - loss: 0.0767 - mse: 0.0767 - 3ms/epoch - 3ms/step\n",
            "Epoch 120/500\n",
            "1/1 - 0s - loss: 0.0760 - mse: 0.0760 - 3ms/epoch - 3ms/step\n",
            "Epoch 121/500\n",
            "1/1 - 0s - loss: 0.0753 - mse: 0.0753 - 3ms/epoch - 3ms/step\n",
            "Epoch 122/500\n",
            "1/1 - 0s - loss: 0.0746 - mse: 0.0746 - 5ms/epoch - 5ms/step\n",
            "Epoch 123/500\n",
            "1/1 - 0s - loss: 0.0740 - mse: 0.0740 - 3ms/epoch - 3ms/step\n",
            "Epoch 124/500\n",
            "1/1 - 0s - loss: 0.0733 - mse: 0.0733 - 4ms/epoch - 4ms/step\n",
            "Epoch 125/500\n",
            "1/1 - 0s - loss: 0.0726 - mse: 0.0726 - 3ms/epoch - 3ms/step\n",
            "Epoch 126/500\n",
            "1/1 - 0s - loss: 0.0720 - mse: 0.0720 - 3ms/epoch - 3ms/step\n",
            "Epoch 127/500\n",
            "1/1 - 0s - loss: 0.0714 - mse: 0.0714 - 3ms/epoch - 3ms/step\n",
            "Epoch 128/500\n",
            "1/1 - 0s - loss: 0.0707 - mse: 0.0707 - 3ms/epoch - 3ms/step\n",
            "Epoch 129/500\n",
            "1/1 - 0s - loss: 0.0701 - mse: 0.0701 - 3ms/epoch - 3ms/step\n",
            "Epoch 130/500\n",
            "1/1 - 0s - loss: 0.0695 - mse: 0.0695 - 6ms/epoch - 6ms/step\n",
            "Epoch 131/500\n",
            "1/1 - 0s - loss: 0.0689 - mse: 0.0689 - 3ms/epoch - 3ms/step\n",
            "Epoch 132/500\n",
            "1/1 - 0s - loss: 0.0683 - mse: 0.0683 - 3ms/epoch - 3ms/step\n",
            "Epoch 133/500\n",
            "1/1 - 0s - loss: 0.0678 - mse: 0.0678 - 3ms/epoch - 3ms/step\n",
            "Epoch 134/500\n",
            "1/1 - 0s - loss: 0.0672 - mse: 0.0672 - 3ms/epoch - 3ms/step\n",
            "Epoch 135/500\n",
            "1/1 - 0s - loss: 0.0666 - mse: 0.0666 - 4ms/epoch - 4ms/step\n",
            "Epoch 136/500\n",
            "1/1 - 0s - loss: 0.0661 - mse: 0.0661 - 3ms/epoch - 3ms/step\n",
            "Epoch 137/500\n",
            "1/1 - 0s - loss: 0.0655 - mse: 0.0655 - 3ms/epoch - 3ms/step\n",
            "Epoch 138/500\n",
            "1/1 - 0s - loss: 0.0650 - mse: 0.0650 - 6ms/epoch - 6ms/step\n",
            "Epoch 139/500\n",
            "1/1 - 0s - loss: 0.0645 - mse: 0.0645 - 3ms/epoch - 3ms/step\n",
            "Epoch 140/500\n",
            "1/1 - 0s - loss: 0.0640 - mse: 0.0640 - 3ms/epoch - 3ms/step\n",
            "Epoch 141/500\n",
            "1/1 - 0s - loss: 0.0635 - mse: 0.0635 - 3ms/epoch - 3ms/step\n",
            "Epoch 142/500\n",
            "1/1 - 0s - loss: 0.0629 - mse: 0.0629 - 3ms/epoch - 3ms/step\n",
            "Epoch 143/500\n",
            "1/1 - 0s - loss: 0.0624 - mse: 0.0624 - 5ms/epoch - 5ms/step\n",
            "Epoch 144/500\n",
            "1/1 - 0s - loss: 0.0620 - mse: 0.0620 - 3ms/epoch - 3ms/step\n",
            "Epoch 145/500\n",
            "1/1 - 0s - loss: 0.0615 - mse: 0.0615 - 3ms/epoch - 3ms/step\n",
            "Epoch 146/500\n",
            "1/1 - 0s - loss: 0.0610 - mse: 0.0610 - 3ms/epoch - 3ms/step\n",
            "Epoch 147/500\n",
            "1/1 - 0s - loss: 0.0605 - mse: 0.0605 - 3ms/epoch - 3ms/step\n",
            "Epoch 148/500\n",
            "1/1 - 0s - loss: 0.0601 - mse: 0.0601 - 12ms/epoch - 12ms/step\n",
            "Epoch 149/500\n",
            "1/1 - 0s - loss: 0.0596 - mse: 0.0596 - 5ms/epoch - 5ms/step\n",
            "Epoch 150/500\n",
            "1/1 - 0s - loss: 0.0592 - mse: 0.0592 - 3ms/epoch - 3ms/step\n",
            "Epoch 151/500\n",
            "1/1 - 0s - loss: 0.0587 - mse: 0.0587 - 3ms/epoch - 3ms/step\n",
            "Epoch 152/500\n",
            "1/1 - 0s - loss: 0.0583 - mse: 0.0583 - 3ms/epoch - 3ms/step\n",
            "Epoch 153/500\n",
            "1/1 - 0s - loss: 0.0578 - mse: 0.0578 - 3ms/epoch - 3ms/step\n",
            "Epoch 154/500\n",
            "1/1 - 0s - loss: 0.0574 - mse: 0.0574 - 3ms/epoch - 3ms/step\n",
            "Epoch 155/500\n",
            "1/1 - 0s - loss: 0.0570 - mse: 0.0570 - 5ms/epoch - 5ms/step\n",
            "Epoch 156/500\n",
            "1/1 - 0s - loss: 0.0566 - mse: 0.0566 - 4ms/epoch - 4ms/step\n",
            "Epoch 157/500\n",
            "1/1 - 0s - loss: 0.0562 - mse: 0.0562 - 7ms/epoch - 7ms/step\n",
            "Epoch 158/500\n",
            "1/1 - 0s - loss: 0.0558 - mse: 0.0558 - 3ms/epoch - 3ms/step\n",
            "Epoch 159/500\n",
            "1/1 - 0s - loss: 0.0554 - mse: 0.0554 - 3ms/epoch - 3ms/step\n",
            "Epoch 160/500\n",
            "1/1 - 0s - loss: 0.0550 - mse: 0.0550 - 3ms/epoch - 3ms/step\n",
            "Epoch 161/500\n",
            "1/1 - 0s - loss: 0.0546 - mse: 0.0546 - 3ms/epoch - 3ms/step\n",
            "Epoch 162/500\n",
            "1/1 - 0s - loss: 0.0542 - mse: 0.0542 - 7ms/epoch - 7ms/step\n",
            "Epoch 163/500\n",
            "1/1 - 0s - loss: 0.0538 - mse: 0.0538 - 3ms/epoch - 3ms/step\n",
            "Epoch 164/500\n",
            "1/1 - 0s - loss: 0.0535 - mse: 0.0535 - 3ms/epoch - 3ms/step\n",
            "Epoch 165/500\n",
            "1/1 - 0s - loss: 0.0531 - mse: 0.0531 - 7ms/epoch - 7ms/step\n",
            "Epoch 166/500\n",
            "1/1 - 0s - loss: 0.0527 - mse: 0.0527 - 3ms/epoch - 3ms/step\n",
            "Epoch 167/500\n",
            "1/1 - 0s - loss: 0.0524 - mse: 0.0524 - 4ms/epoch - 4ms/step\n",
            "Epoch 168/500\n",
            "1/1 - 0s - loss: 0.0520 - mse: 0.0520 - 3ms/epoch - 3ms/step\n",
            "Epoch 169/500\n",
            "1/1 - 0s - loss: 0.0517 - mse: 0.0517 - 5ms/epoch - 5ms/step\n",
            "Epoch 170/500\n",
            "1/1 - 0s - loss: 0.0513 - mse: 0.0513 - 3ms/epoch - 3ms/step\n",
            "Epoch 171/500\n",
            "1/1 - 0s - loss: 0.0510 - mse: 0.0510 - 3ms/epoch - 3ms/step\n",
            "Epoch 172/500\n",
            "1/1 - 0s - loss: 0.0506 - mse: 0.0506 - 4ms/epoch - 4ms/step\n",
            "Epoch 173/500\n",
            "1/1 - 0s - loss: 0.0503 - mse: 0.0503 - 3ms/epoch - 3ms/step\n",
            "Epoch 174/500\n",
            "1/1 - 0s - loss: 0.0500 - mse: 0.0500 - 3ms/epoch - 3ms/step\n",
            "Epoch 175/500\n",
            "1/1 - 0s - loss: 0.0496 - mse: 0.0496 - 3ms/epoch - 3ms/step\n",
            "Epoch 176/500\n",
            "1/1 - 0s - loss: 0.0493 - mse: 0.0493 - 3ms/epoch - 3ms/step\n",
            "Epoch 177/500\n",
            "1/1 - 0s - loss: 0.0490 - mse: 0.0490 - 3ms/epoch - 3ms/step\n",
            "Epoch 178/500\n",
            "1/1 - 0s - loss: 0.0487 - mse: 0.0487 - 3ms/epoch - 3ms/step\n",
            "Epoch 179/500\n",
            "1/1 - 0s - loss: 0.0484 - mse: 0.0484 - 4ms/epoch - 4ms/step\n",
            "Epoch 180/500\n",
            "1/1 - 0s - loss: 0.0481 - mse: 0.0481 - 3ms/epoch - 3ms/step\n",
            "Epoch 181/500\n",
            "1/1 - 0s - loss: 0.0478 - mse: 0.0478 - 3ms/epoch - 3ms/step\n",
            "Epoch 182/500\n",
            "1/1 - 0s - loss: 0.0475 - mse: 0.0475 - 3ms/epoch - 3ms/step\n",
            "Epoch 183/500\n",
            "1/1 - 0s - loss: 0.0472 - mse: 0.0472 - 3ms/epoch - 3ms/step\n",
            "Epoch 184/500\n",
            "1/1 - 0s - loss: 0.0469 - mse: 0.0469 - 7ms/epoch - 7ms/step\n",
            "Epoch 185/500\n",
            "1/1 - 0s - loss: 0.0466 - mse: 0.0466 - 3ms/epoch - 3ms/step\n",
            "Epoch 186/500\n",
            "1/1 - 0s - loss: 0.0463 - mse: 0.0463 - 3ms/epoch - 3ms/step\n",
            "Epoch 187/500\n",
            "1/1 - 0s - loss: 0.0460 - mse: 0.0460 - 7ms/epoch - 7ms/step\n",
            "Epoch 188/500\n",
            "1/1 - 0s - loss: 0.0457 - mse: 0.0457 - 3ms/epoch - 3ms/step\n",
            "Epoch 189/500\n",
            "1/1 - 0s - loss: 0.0454 - mse: 0.0454 - 4ms/epoch - 4ms/step\n",
            "Epoch 190/500\n",
            "1/1 - 0s - loss: 0.0452 - mse: 0.0452 - 3ms/epoch - 3ms/step\n",
            "Epoch 191/500\n",
            "1/1 - 0s - loss: 0.0449 - mse: 0.0449 - 3ms/epoch - 3ms/step\n",
            "Epoch 192/500\n",
            "1/1 - 0s - loss: 0.0446 - mse: 0.0446 - 3ms/epoch - 3ms/step\n",
            "Epoch 193/500\n",
            "1/1 - 0s - loss: 0.0444 - mse: 0.0444 - 3ms/epoch - 3ms/step\n",
            "Epoch 194/500\n",
            "1/1 - 0s - loss: 0.0441 - mse: 0.0441 - 3ms/epoch - 3ms/step\n",
            "Epoch 195/500\n",
            "1/1 - 0s - loss: 0.0438 - mse: 0.0438 - 6ms/epoch - 6ms/step\n",
            "Epoch 196/500\n",
            "1/1 - 0s - loss: 0.0436 - mse: 0.0436 - 6ms/epoch - 6ms/step\n",
            "Epoch 197/500\n",
            "1/1 - 0s - loss: 0.0433 - mse: 0.0433 - 3ms/epoch - 3ms/step\n",
            "Epoch 198/500\n",
            "1/1 - 0s - loss: 0.0431 - mse: 0.0431 - 7ms/epoch - 7ms/step\n",
            "Epoch 199/500\n",
            "1/1 - 0s - loss: 0.0428 - mse: 0.0428 - 3ms/epoch - 3ms/step\n",
            "Epoch 200/500\n",
            "1/1 - 0s - loss: 0.0426 - mse: 0.0426 - 3ms/epoch - 3ms/step\n",
            "Epoch 201/500\n",
            "1/1 - 0s - loss: 0.0423 - mse: 0.0423 - 3ms/epoch - 3ms/step\n",
            "Epoch 202/500\n",
            "1/1 - 0s - loss: 0.0421 - mse: 0.0421 - 3ms/epoch - 3ms/step\n",
            "Epoch 203/500\n",
            "1/1 - 0s - loss: 0.0419 - mse: 0.0419 - 3ms/epoch - 3ms/step\n",
            "Epoch 204/500\n",
            "1/1 - 0s - loss: 0.0416 - mse: 0.0416 - 4ms/epoch - 4ms/step\n",
            "Epoch 205/500\n",
            "1/1 - 0s - loss: 0.0414 - mse: 0.0414 - 3ms/epoch - 3ms/step\n",
            "Epoch 206/500\n",
            "1/1 - 0s - loss: 0.0412 - mse: 0.0412 - 3ms/epoch - 3ms/step\n",
            "Epoch 207/500\n",
            "1/1 - 0s - loss: 0.0409 - mse: 0.0409 - 4ms/epoch - 4ms/step\n",
            "Epoch 208/500\n",
            "1/1 - 0s - loss: 0.0407 - mse: 0.0407 - 6ms/epoch - 6ms/step\n",
            "Epoch 209/500\n",
            "1/1 - 0s - loss: 0.0405 - mse: 0.0405 - 6ms/epoch - 6ms/step\n",
            "Epoch 210/500\n",
            "1/1 - 0s - loss: 0.0403 - mse: 0.0403 - 3ms/epoch - 3ms/step\n",
            "Epoch 211/500\n",
            "1/1 - 0s - loss: 0.0400 - mse: 0.0400 - 3ms/epoch - 3ms/step\n",
            "Epoch 212/500\n",
            "1/1 - 0s - loss: 0.0398 - mse: 0.0398 - 3ms/epoch - 3ms/step\n",
            "Epoch 213/500\n",
            "1/1 - 0s - loss: 0.0396 - mse: 0.0396 - 3ms/epoch - 3ms/step\n",
            "Epoch 214/500\n",
            "1/1 - 0s - loss: 0.0394 - mse: 0.0394 - 3ms/epoch - 3ms/step\n",
            "Epoch 215/500\n",
            "1/1 - 0s - loss: 0.0392 - mse: 0.0392 - 3ms/epoch - 3ms/step\n",
            "Epoch 216/500\n",
            "1/1 - 0s - loss: 0.0390 - mse: 0.0390 - 4ms/epoch - 4ms/step\n",
            "Epoch 217/500\n",
            "1/1 - 0s - loss: 0.0388 - mse: 0.0388 - 4ms/epoch - 4ms/step\n",
            "Epoch 218/500\n",
            "1/1 - 0s - loss: 0.0386 - mse: 0.0386 - 3ms/epoch - 3ms/step\n",
            "Epoch 219/500\n",
            "1/1 - 0s - loss: 0.0384 - mse: 0.0384 - 3ms/epoch - 3ms/step\n",
            "Epoch 220/500\n",
            "1/1 - 0s - loss: 0.0382 - mse: 0.0382 - 5ms/epoch - 5ms/step\n",
            "Epoch 221/500\n",
            "1/1 - 0s - loss: 0.0380 - mse: 0.0380 - 3ms/epoch - 3ms/step\n",
            "Epoch 222/500\n",
            "1/1 - 0s - loss: 0.0378 - mse: 0.0378 - 3ms/epoch - 3ms/step\n",
            "Epoch 223/500\n",
            "1/1 - 0s - loss: 0.0376 - mse: 0.0376 - 8ms/epoch - 8ms/step\n",
            "Epoch 224/500\n",
            "1/1 - 0s - loss: 0.0374 - mse: 0.0374 - 8ms/epoch - 8ms/step\n",
            "Epoch 225/500\n",
            "1/1 - 0s - loss: 0.0372 - mse: 0.0372 - 8ms/epoch - 8ms/step\n",
            "Epoch 226/500\n",
            "1/1 - 0s - loss: 0.0370 - mse: 0.0370 - 3ms/epoch - 3ms/step\n",
            "Epoch 227/500\n",
            "1/1 - 0s - loss: 0.0368 - mse: 0.0368 - 4ms/epoch - 4ms/step\n",
            "Epoch 228/500\n",
            "1/1 - 0s - loss: 0.0366 - mse: 0.0366 - 3ms/epoch - 3ms/step\n",
            "Epoch 229/500\n",
            "1/1 - 0s - loss: 0.0364 - mse: 0.0364 - 3ms/epoch - 3ms/step\n",
            "Epoch 230/500\n",
            "1/1 - 0s - loss: 0.0363 - mse: 0.0363 - 3ms/epoch - 3ms/step\n",
            "Epoch 231/500\n",
            "1/1 - 0s - loss: 0.0361 - mse: 0.0361 - 4ms/epoch - 4ms/step\n",
            "Epoch 232/500\n",
            "1/1 - 0s - loss: 0.0359 - mse: 0.0359 - 4ms/epoch - 4ms/step\n",
            "Epoch 233/500\n",
            "1/1 - 0s - loss: 0.0357 - mse: 0.0357 - 4ms/epoch - 4ms/step\n",
            "Epoch 234/500\n",
            "1/1 - 0s - loss: 0.0355 - mse: 0.0355 - 4ms/epoch - 4ms/step\n",
            "Epoch 235/500\n",
            "1/1 - 0s - loss: 0.0354 - mse: 0.0354 - 3ms/epoch - 3ms/step\n",
            "Epoch 236/500\n",
            "1/1 - 0s - loss: 0.0352 - mse: 0.0352 - 3ms/epoch - 3ms/step\n",
            "Epoch 237/500\n",
            "1/1 - 0s - loss: 0.0350 - mse: 0.0350 - 4ms/epoch - 4ms/step\n",
            "Epoch 238/500\n",
            "1/1 - 0s - loss: 0.0349 - mse: 0.0349 - 8ms/epoch - 8ms/step\n",
            "Epoch 239/500\n",
            "1/1 - 0s - loss: 0.0347 - mse: 0.0347 - 4ms/epoch - 4ms/step\n",
            "Epoch 240/500\n",
            "1/1 - 0s - loss: 0.0345 - mse: 0.0345 - 3ms/epoch - 3ms/step\n",
            "Epoch 241/500\n",
            "1/1 - 0s - loss: 0.0344 - mse: 0.0344 - 4ms/epoch - 4ms/step\n",
            "Epoch 242/500\n",
            "1/1 - 0s - loss: 0.0342 - mse: 0.0342 - 6ms/epoch - 6ms/step\n",
            "Epoch 243/500\n",
            "1/1 - 0s - loss: 0.0340 - mse: 0.0340 - 3ms/epoch - 3ms/step\n",
            "Epoch 244/500\n",
            "1/1 - 0s - loss: 0.0339 - mse: 0.0339 - 3ms/epoch - 3ms/step\n",
            "Epoch 245/500\n",
            "1/1 - 0s - loss: 0.0337 - mse: 0.0337 - 3ms/epoch - 3ms/step\n",
            "Epoch 246/500\n",
            "1/1 - 0s - loss: 0.0336 - mse: 0.0336 - 3ms/epoch - 3ms/step\n",
            "Epoch 247/500\n",
            "1/1 - 0s - loss: 0.0334 - mse: 0.0334 - 4ms/epoch - 4ms/step\n",
            "Epoch 248/500\n",
            "1/1 - 0s - loss: 0.0332 - mse: 0.0332 - 3ms/epoch - 3ms/step\n",
            "Epoch 249/500\n",
            "1/1 - 0s - loss: 0.0331 - mse: 0.0331 - 3ms/epoch - 3ms/step\n",
            "Epoch 250/500\n",
            "1/1 - 0s - loss: 0.0329 - mse: 0.0329 - 3ms/epoch - 3ms/step\n",
            "Epoch 251/500\n",
            "1/1 - 0s - loss: 0.0328 - mse: 0.0328 - 3ms/epoch - 3ms/step\n",
            "Epoch 252/500\n",
            "1/1 - 0s - loss: 0.0326 - mse: 0.0326 - 3ms/epoch - 3ms/step\n",
            "Epoch 253/500\n",
            "1/1 - 0s - loss: 0.0325 - mse: 0.0325 - 3ms/epoch - 3ms/step\n",
            "Epoch 254/500\n",
            "1/1 - 0s - loss: 0.0323 - mse: 0.0323 - 3ms/epoch - 3ms/step\n",
            "Epoch 255/500\n",
            "1/1 - 0s - loss: 0.0322 - mse: 0.0322 - 5ms/epoch - 5ms/step\n",
            "Epoch 256/500\n",
            "1/1 - 0s - loss: 0.0321 - mse: 0.0321 - 3ms/epoch - 3ms/step\n",
            "Epoch 257/500\n",
            "1/1 - 0s - loss: 0.0319 - mse: 0.0319 - 4ms/epoch - 4ms/step\n",
            "Epoch 258/500\n",
            "1/1 - 0s - loss: 0.0318 - mse: 0.0318 - 3ms/epoch - 3ms/step\n",
            "Epoch 259/500\n",
            "1/1 - 0s - loss: 0.0316 - mse: 0.0316 - 3ms/epoch - 3ms/step\n",
            "Epoch 260/500\n",
            "1/1 - 0s - loss: 0.0315 - mse: 0.0315 - 4ms/epoch - 4ms/step\n",
            "Epoch 261/500\n",
            "1/1 - 0s - loss: 0.0314 - mse: 0.0314 - 3ms/epoch - 3ms/step\n",
            "Epoch 262/500\n",
            "1/1 - 0s - loss: 0.0312 - mse: 0.0312 - 8ms/epoch - 8ms/step\n",
            "Epoch 263/500\n",
            "1/1 - 0s - loss: 0.0311 - mse: 0.0311 - 3ms/epoch - 3ms/step\n",
            "Epoch 264/500\n",
            "1/1 - 0s - loss: 0.0309 - mse: 0.0309 - 3ms/epoch - 3ms/step\n",
            "Epoch 265/500\n",
            "1/1 - 0s - loss: 0.0308 - mse: 0.0308 - 3ms/epoch - 3ms/step\n",
            "Epoch 266/500\n",
            "1/1 - 0s - loss: 0.0307 - mse: 0.0307 - 3ms/epoch - 3ms/step\n",
            "Epoch 267/500\n",
            "1/1 - 0s - loss: 0.0305 - mse: 0.0305 - 4ms/epoch - 4ms/step\n",
            "Epoch 268/500\n",
            "1/1 - 0s - loss: 0.0304 - mse: 0.0304 - 3ms/epoch - 3ms/step\n",
            "Epoch 269/500\n",
            "1/1 - 0s - loss: 0.0303 - mse: 0.0303 - 3ms/epoch - 3ms/step\n",
            "Epoch 270/500\n",
            "1/1 - 0s - loss: 0.0302 - mse: 0.0302 - 3ms/epoch - 3ms/step\n",
            "Epoch 271/500\n",
            "1/1 - 0s - loss: 0.0300 - mse: 0.0300 - 3ms/epoch - 3ms/step\n",
            "Epoch 272/500\n",
            "1/1 - 0s - loss: 0.0299 - mse: 0.0299 - 4ms/epoch - 4ms/step\n",
            "Epoch 273/500\n",
            "1/1 - 0s - loss: 0.0298 - mse: 0.0298 - 3ms/epoch - 3ms/step\n",
            "Epoch 274/500\n",
            "1/1 - 0s - loss: 0.0296 - mse: 0.0296 - 4ms/epoch - 4ms/step\n",
            "Epoch 275/500\n",
            "1/1 - 0s - loss: 0.0295 - mse: 0.0295 - 3ms/epoch - 3ms/step\n",
            "Epoch 276/500\n",
            "1/1 - 0s - loss: 0.0294 - mse: 0.0294 - 3ms/epoch - 3ms/step\n",
            "Epoch 277/500\n",
            "1/1 - 0s - loss: 0.0293 - mse: 0.0293 - 3ms/epoch - 3ms/step\n",
            "Epoch 278/500\n",
            "1/1 - 0s - loss: 0.0292 - mse: 0.0292 - 4ms/epoch - 4ms/step\n",
            "Epoch 279/500\n",
            "1/1 - 0s - loss: 0.0290 - mse: 0.0290 - 3ms/epoch - 3ms/step\n",
            "Epoch 280/500\n",
            "1/1 - 0s - loss: 0.0289 - mse: 0.0289 - 3ms/epoch - 3ms/step\n",
            "Epoch 281/500\n",
            "1/1 - 0s - loss: 0.0288 - mse: 0.0288 - 5ms/epoch - 5ms/step\n",
            "Epoch 282/500\n",
            "1/1 - 0s - loss: 0.0287 - mse: 0.0287 - 3ms/epoch - 3ms/step\n",
            "Epoch 283/500\n",
            "1/1 - 0s - loss: 0.0286 - mse: 0.0286 - 4ms/epoch - 4ms/step\n",
            "Epoch 284/500\n",
            "1/1 - 0s - loss: 0.0284 - mse: 0.0284 - 3ms/epoch - 3ms/step\n",
            "Epoch 285/500\n",
            "1/1 - 0s - loss: 0.0283 - mse: 0.0283 - 5ms/epoch - 5ms/step\n",
            "Epoch 286/500\n",
            "1/1 - 0s - loss: 0.0282 - mse: 0.0282 - 3ms/epoch - 3ms/step\n",
            "Epoch 287/500\n",
            "1/1 - 0s - loss: 0.0281 - mse: 0.0281 - 3ms/epoch - 3ms/step\n",
            "Epoch 288/500\n",
            "1/1 - 0s - loss: 0.0280 - mse: 0.0280 - 3ms/epoch - 3ms/step\n",
            "Epoch 289/500\n",
            "1/1 - 0s - loss: 0.0279 - mse: 0.0279 - 3ms/epoch - 3ms/step\n",
            "Epoch 290/500\n",
            "1/1 - 0s - loss: 0.0278 - mse: 0.0278 - 5ms/epoch - 5ms/step\n",
            "Epoch 291/500\n",
            "1/1 - 0s - loss: 0.0277 - mse: 0.0277 - 3ms/epoch - 3ms/step\n",
            "Epoch 292/500\n",
            "1/1 - 0s - loss: 0.0276 - mse: 0.0276 - 3ms/epoch - 3ms/step\n",
            "Epoch 293/500\n",
            "1/1 - 0s - loss: 0.0274 - mse: 0.0274 - 3ms/epoch - 3ms/step\n",
            "Epoch 294/500\n",
            "1/1 - 0s - loss: 0.0273 - mse: 0.0273 - 3ms/epoch - 3ms/step\n",
            "Epoch 295/500\n",
            "1/1 - 0s - loss: 0.0272 - mse: 0.0272 - 3ms/epoch - 3ms/step\n",
            "Epoch 296/500\n",
            "1/1 - 0s - loss: 0.0271 - mse: 0.0271 - 3ms/epoch - 3ms/step\n",
            "Epoch 297/500\n",
            "1/1 - 0s - loss: 0.0270 - mse: 0.0270 - 7ms/epoch - 7ms/step\n",
            "Epoch 298/500\n",
            "1/1 - 0s - loss: 0.0269 - mse: 0.0269 - 3ms/epoch - 3ms/step\n",
            "Epoch 299/500\n",
            "1/1 - 0s - loss: 0.0268 - mse: 0.0268 - 3ms/epoch - 3ms/step\n",
            "Epoch 300/500\n",
            "1/1 - 0s - loss: 0.0267 - mse: 0.0267 - 3ms/epoch - 3ms/step\n",
            "Epoch 301/500\n",
            "1/1 - 0s - loss: 0.0266 - mse: 0.0266 - 3ms/epoch - 3ms/step\n",
            "Epoch 302/500\n",
            "1/1 - 0s - loss: 0.0265 - mse: 0.0265 - 3ms/epoch - 3ms/step\n",
            "Epoch 303/500\n",
            "1/1 - 0s - loss: 0.0264 - mse: 0.0264 - 4ms/epoch - 4ms/step\n",
            "Epoch 304/500\n",
            "1/1 - 0s - loss: 0.0263 - mse: 0.0263 - 5ms/epoch - 5ms/step\n",
            "Epoch 305/500\n",
            "1/1 - 0s - loss: 0.0262 - mse: 0.0262 - 3ms/epoch - 3ms/step\n",
            "Epoch 306/500\n",
            "1/1 - 0s - loss: 0.0261 - mse: 0.0261 - 3ms/epoch - 3ms/step\n",
            "Epoch 307/500\n",
            "1/1 - 0s - loss: 0.0260 - mse: 0.0260 - 3ms/epoch - 3ms/step\n",
            "Epoch 308/500\n",
            "1/1 - 0s - loss: 0.0259 - mse: 0.0259 - 3ms/epoch - 3ms/step\n",
            "Epoch 309/500\n",
            "1/1 - 0s - loss: 0.0258 - mse: 0.0258 - 3ms/epoch - 3ms/step\n",
            "Epoch 310/500\n",
            "1/1 - 0s - loss: 0.0257 - mse: 0.0257 - 3ms/epoch - 3ms/step\n",
            "Epoch 311/500\n",
            "1/1 - 0s - loss: 0.0256 - mse: 0.0256 - 2ms/epoch - 2ms/step\n",
            "Epoch 312/500\n",
            "1/1 - 0s - loss: 0.0255 - mse: 0.0255 - 3ms/epoch - 3ms/step\n",
            "Epoch 313/500\n",
            "1/1 - 0s - loss: 0.0254 - mse: 0.0254 - 3ms/epoch - 3ms/step\n",
            "Epoch 314/500\n",
            "1/1 - 0s - loss: 0.0253 - mse: 0.0253 - 3ms/epoch - 3ms/step\n",
            "Epoch 315/500\n",
            "1/1 - 0s - loss: 0.0253 - mse: 0.0253 - 3ms/epoch - 3ms/step\n",
            "Epoch 316/500\n",
            "1/1 - 0s - loss: 0.0252 - mse: 0.0252 - 3ms/epoch - 3ms/step\n",
            "Epoch 317/500\n",
            "1/1 - 0s - loss: 0.0251 - mse: 0.0251 - 3ms/epoch - 3ms/step\n",
            "Epoch 318/500\n",
            "1/1 - 0s - loss: 0.0250 - mse: 0.0250 - 3ms/epoch - 3ms/step\n",
            "Epoch 319/500\n",
            "1/1 - 0s - loss: 0.0249 - mse: 0.0249 - 3ms/epoch - 3ms/step\n",
            "Epoch 320/500\n",
            "1/1 - 0s - loss: 0.0248 - mse: 0.0248 - 3ms/epoch - 3ms/step\n",
            "Epoch 321/500\n",
            "1/1 - 0s - loss: 0.0247 - mse: 0.0247 - 4ms/epoch - 4ms/step\n",
            "Epoch 322/500\n",
            "1/1 - 0s - loss: 0.0246 - mse: 0.0246 - 4ms/epoch - 4ms/step\n",
            "Epoch 323/500\n",
            "1/1 - 0s - loss: 0.0245 - mse: 0.0245 - 3ms/epoch - 3ms/step\n",
            "Epoch 324/500\n",
            "1/1 - 0s - loss: 0.0245 - mse: 0.0245 - 5ms/epoch - 5ms/step\n",
            "Epoch 325/500\n",
            "1/1 - 0s - loss: 0.0244 - mse: 0.0244 - 3ms/epoch - 3ms/step\n",
            "Epoch 326/500\n",
            "1/1 - 0s - loss: 0.0243 - mse: 0.0243 - 3ms/epoch - 3ms/step\n",
            "Epoch 327/500\n",
            "1/1 - 0s - loss: 0.0242 - mse: 0.0242 - 3ms/epoch - 3ms/step\n",
            "Epoch 328/500\n",
            "1/1 - 0s - loss: 0.0241 - mse: 0.0241 - 3ms/epoch - 3ms/step\n",
            "Epoch 329/500\n",
            "1/1 - 0s - loss: 0.0240 - mse: 0.0240 - 6ms/epoch - 6ms/step\n",
            "Epoch 330/500\n",
            "1/1 - 0s - loss: 0.0239 - mse: 0.0239 - 3ms/epoch - 3ms/step\n",
            "Epoch 331/500\n",
            "1/1 - 0s - loss: 0.0239 - mse: 0.0239 - 3ms/epoch - 3ms/step\n",
            "Epoch 332/500\n",
            "1/1 - 0s - loss: 0.0238 - mse: 0.0238 - 3ms/epoch - 3ms/step\n",
            "Epoch 333/500\n",
            "1/1 - 0s - loss: 0.0237 - mse: 0.0237 - 4ms/epoch - 4ms/step\n",
            "Epoch 334/500\n",
            "1/1 - 0s - loss: 0.0236 - mse: 0.0236 - 4ms/epoch - 4ms/step\n",
            "Epoch 335/500\n",
            "1/1 - 0s - loss: 0.0235 - mse: 0.0235 - 3ms/epoch - 3ms/step\n",
            "Epoch 336/500\n",
            "1/1 - 0s - loss: 0.0235 - mse: 0.0235 - 3ms/epoch - 3ms/step\n",
            "Epoch 337/500\n",
            "1/1 - 0s - loss: 0.0234 - mse: 0.0234 - 5ms/epoch - 5ms/step\n",
            "Epoch 338/500\n",
            "1/1 - 0s - loss: 0.0233 - mse: 0.0233 - 3ms/epoch - 3ms/step\n",
            "Epoch 339/500\n",
            "1/1 - 0s - loss: 0.0232 - mse: 0.0232 - 3ms/epoch - 3ms/step\n",
            "Epoch 340/500\n",
            "1/1 - 0s - loss: 0.0231 - mse: 0.0231 - 6ms/epoch - 6ms/step\n",
            "Epoch 341/500\n",
            "1/1 - 0s - loss: 0.0231 - mse: 0.0231 - 3ms/epoch - 3ms/step\n",
            "Epoch 342/500\n",
            "1/1 - 0s - loss: 0.0230 - mse: 0.0230 - 3ms/epoch - 3ms/step\n",
            "Epoch 343/500\n",
            "1/1 - 0s - loss: 0.0229 - mse: 0.0229 - 3ms/epoch - 3ms/step\n",
            "Epoch 344/500\n",
            "1/1 - 0s - loss: 0.0228 - mse: 0.0228 - 4ms/epoch - 4ms/step\n",
            "Epoch 345/500\n",
            "1/1 - 0s - loss: 0.0228 - mse: 0.0228 - 4ms/epoch - 4ms/step\n",
            "Epoch 346/500\n",
            "1/1 - 0s - loss: 0.0227 - mse: 0.0227 - 3ms/epoch - 3ms/step\n",
            "Epoch 347/500\n",
            "1/1 - 0s - loss: 0.0226 - mse: 0.0226 - 4ms/epoch - 4ms/step\n",
            "Epoch 348/500\n",
            "1/1 - 0s - loss: 0.0225 - mse: 0.0225 - 7ms/epoch - 7ms/step\n",
            "Epoch 349/500\n",
            "1/1 - 0s - loss: 0.0225 - mse: 0.0225 - 3ms/epoch - 3ms/step\n",
            "Epoch 350/500\n",
            "1/1 - 0s - loss: 0.0224 - mse: 0.0224 - 3ms/epoch - 3ms/step\n",
            "Epoch 351/500\n",
            "1/1 - 0s - loss: 0.0223 - mse: 0.0223 - 3ms/epoch - 3ms/step\n",
            "Epoch 352/500\n",
            "1/1 - 0s - loss: 0.0222 - mse: 0.0222 - 3ms/epoch - 3ms/step\n",
            "Epoch 353/500\n",
            "1/1 - 0s - loss: 0.0222 - mse: 0.0222 - 3ms/epoch - 3ms/step\n",
            "Epoch 354/500\n",
            "1/1 - 0s - loss: 0.0221 - mse: 0.0221 - 3ms/epoch - 3ms/step\n",
            "Epoch 355/500\n",
            "1/1 - 0s - loss: 0.0220 - mse: 0.0220 - 3ms/epoch - 3ms/step\n",
            "Epoch 356/500\n",
            "1/1 - 0s - loss: 0.0220 - mse: 0.0220 - 4ms/epoch - 4ms/step\n",
            "Epoch 357/500\n",
            "1/1 - 0s - loss: 0.0219 - mse: 0.0219 - 3ms/epoch - 3ms/step\n",
            "Epoch 358/500\n",
            "1/1 - 0s - loss: 0.0218 - mse: 0.0218 - 4ms/epoch - 4ms/step\n",
            "Epoch 359/500\n",
            "1/1 - 0s - loss: 0.0217 - mse: 0.0217 - 3ms/epoch - 3ms/step\n",
            "Epoch 360/500\n",
            "1/1 - 0s - loss: 0.0217 - mse: 0.0217 - 5ms/epoch - 5ms/step\n",
            "Epoch 361/500\n",
            "1/1 - 0s - loss: 0.0216 - mse: 0.0216 - 3ms/epoch - 3ms/step\n",
            "Epoch 362/500\n",
            "1/1 - 0s - loss: 0.0215 - mse: 0.0215 - 3ms/epoch - 3ms/step\n",
            "Epoch 363/500\n",
            "1/1 - 0s - loss: 0.0215 - mse: 0.0215 - 3ms/epoch - 3ms/step\n",
            "Epoch 364/500\n",
            "1/1 - 0s - loss: 0.0214 - mse: 0.0214 - 3ms/epoch - 3ms/step\n",
            "Epoch 365/500\n",
            "1/1 - 0s - loss: 0.0213 - mse: 0.0213 - 3ms/epoch - 3ms/step\n",
            "Epoch 366/500\n",
            "1/1 - 0s - loss: 0.0213 - mse: 0.0213 - 3ms/epoch - 3ms/step\n",
            "Epoch 367/500\n",
            "1/1 - 0s - loss: 0.0212 - mse: 0.0212 - 4ms/epoch - 4ms/step\n",
            "Epoch 368/500\n",
            "1/1 - 0s - loss: 0.0211 - mse: 0.0211 - 4ms/epoch - 4ms/step\n",
            "Epoch 369/500\n",
            "1/1 - 0s - loss: 0.0211 - mse: 0.0211 - 3ms/epoch - 3ms/step\n",
            "Epoch 370/500\n",
            "1/1 - 0s - loss: 0.0210 - mse: 0.0210 - 6ms/epoch - 6ms/step\n",
            "Epoch 371/500\n",
            "1/1 - 0s - loss: 0.0209 - mse: 0.0209 - 3ms/epoch - 3ms/step\n",
            "Epoch 372/500\n",
            "1/1 - 0s - loss: 0.0209 - mse: 0.0209 - 3ms/epoch - 3ms/step\n",
            "Epoch 373/500\n",
            "1/1 - 0s - loss: 0.0208 - mse: 0.0208 - 3ms/epoch - 3ms/step\n",
            "Epoch 374/500\n",
            "1/1 - 0s - loss: 0.0207 - mse: 0.0207 - 3ms/epoch - 3ms/step\n",
            "Epoch 375/500\n",
            "1/1 - 0s - loss: 0.0207 - mse: 0.0207 - 3ms/epoch - 3ms/step\n",
            "Epoch 376/500\n",
            "1/1 - 0s - loss: 0.0206 - mse: 0.0206 - 3ms/epoch - 3ms/step\n",
            "Epoch 377/500\n",
            "1/1 - 0s - loss: 0.0206 - mse: 0.0206 - 3ms/epoch - 3ms/step\n",
            "Epoch 378/500\n",
            "1/1 - 0s - loss: 0.0205 - mse: 0.0205 - 3ms/epoch - 3ms/step\n",
            "Epoch 379/500\n",
            "1/1 - 0s - loss: 0.0204 - mse: 0.0204 - 3ms/epoch - 3ms/step\n",
            "Epoch 380/500\n",
            "1/1 - 0s - loss: 0.0204 - mse: 0.0204 - 3ms/epoch - 3ms/step\n",
            "Epoch 381/500\n",
            "1/1 - 0s - loss: 0.0203 - mse: 0.0203 - 3ms/epoch - 3ms/step\n",
            "Epoch 382/500\n",
            "1/1 - 0s - loss: 0.0203 - mse: 0.0203 - 6ms/epoch - 6ms/step\n",
            "Epoch 383/500\n",
            "1/1 - 0s - loss: 0.0202 - mse: 0.0202 - 5ms/epoch - 5ms/step\n",
            "Epoch 384/500\n",
            "1/1 - 0s - loss: 0.0201 - mse: 0.0201 - 3ms/epoch - 3ms/step\n",
            "Epoch 385/500\n",
            "1/1 - 0s - loss: 0.0201 - mse: 0.0201 - 3ms/epoch - 3ms/step\n",
            "Epoch 386/500\n",
            "1/1 - 0s - loss: 0.0200 - mse: 0.0200 - 3ms/epoch - 3ms/step\n",
            "Epoch 387/500\n",
            "1/1 - 0s - loss: 0.0200 - mse: 0.0200 - 3ms/epoch - 3ms/step\n",
            "Epoch 388/500\n",
            "1/1 - 0s - loss: 0.0199 - mse: 0.0199 - 3ms/epoch - 3ms/step\n",
            "Epoch 389/500\n",
            "1/1 - 0s - loss: 0.0198 - mse: 0.0198 - 4ms/epoch - 4ms/step\n",
            "Epoch 390/500\n",
            "1/1 - 0s - loss: 0.0198 - mse: 0.0198 - 3ms/epoch - 3ms/step\n",
            "Epoch 391/500\n",
            "1/1 - 0s - loss: 0.0197 - mse: 0.0197 - 5ms/epoch - 5ms/step\n",
            "Epoch 392/500\n",
            "1/1 - 0s - loss: 0.0197 - mse: 0.0197 - 3ms/epoch - 3ms/step\n",
            "Epoch 393/500\n",
            "1/1 - 0s - loss: 0.0196 - mse: 0.0196 - 6ms/epoch - 6ms/step\n",
            "Epoch 394/500\n",
            "1/1 - 0s - loss: 0.0195 - mse: 0.0195 - 3ms/epoch - 3ms/step\n",
            "Epoch 395/500\n",
            "1/1 - 0s - loss: 0.0195 - mse: 0.0195 - 5ms/epoch - 5ms/step\n",
            "Epoch 396/500\n",
            "1/1 - 0s - loss: 0.0194 - mse: 0.0194 - 3ms/epoch - 3ms/step\n",
            "Epoch 397/500\n",
            "1/1 - 0s - loss: 0.0194 - mse: 0.0194 - 3ms/epoch - 3ms/step\n",
            "Epoch 398/500\n",
            "1/1 - 0s - loss: 0.0193 - mse: 0.0193 - 3ms/epoch - 3ms/step\n",
            "Epoch 399/500\n",
            "1/1 - 0s - loss: 0.0193 - mse: 0.0193 - 3ms/epoch - 3ms/step\n",
            "Epoch 400/500\n",
            "1/1 - 0s - loss: 0.0192 - mse: 0.0192 - 5ms/epoch - 5ms/step\n",
            "Epoch 401/500\n",
            "1/1 - 0s - loss: 0.0192 - mse: 0.0192 - 4ms/epoch - 4ms/step\n",
            "Epoch 402/500\n",
            "1/1 - 0s - loss: 0.0191 - mse: 0.0191 - 4ms/epoch - 4ms/step\n",
            "Epoch 403/500\n",
            "1/1 - 0s - loss: 0.0191 - mse: 0.0191 - 6ms/epoch - 6ms/step\n",
            "Epoch 404/500\n",
            "1/1 - 0s - loss: 0.0190 - mse: 0.0190 - 3ms/epoch - 3ms/step\n",
            "Epoch 405/500\n",
            "1/1 - 0s - loss: 0.0189 - mse: 0.0189 - 3ms/epoch - 3ms/step\n",
            "Epoch 406/500\n",
            "1/1 - 0s - loss: 0.0189 - mse: 0.0189 - 5ms/epoch - 5ms/step\n",
            "Epoch 407/500\n",
            "1/1 - 0s - loss: 0.0188 - mse: 0.0188 - 3ms/epoch - 3ms/step\n",
            "Epoch 408/500\n",
            "1/1 - 0s - loss: 0.0188 - mse: 0.0188 - 3ms/epoch - 3ms/step\n",
            "Epoch 409/500\n",
            "1/1 - 0s - loss: 0.0187 - mse: 0.0187 - 3ms/epoch - 3ms/step\n",
            "Epoch 410/500\n",
            "1/1 - 0s - loss: 0.0187 - mse: 0.0187 - 3ms/epoch - 3ms/step\n",
            "Epoch 411/500\n",
            "1/1 - 0s - loss: 0.0186 - mse: 0.0186 - 3ms/epoch - 3ms/step\n",
            "Epoch 412/500\n",
            "1/1 - 0s - loss: 0.0186 - mse: 0.0186 - 3ms/epoch - 3ms/step\n",
            "Epoch 413/500\n",
            "1/1 - 0s - loss: 0.0185 - mse: 0.0185 - 4ms/epoch - 4ms/step\n",
            "Epoch 414/500\n",
            "1/1 - 0s - loss: 0.0185 - mse: 0.0185 - 5ms/epoch - 5ms/step\n",
            "Epoch 415/500\n",
            "1/1 - 0s - loss: 0.0184 - mse: 0.0184 - 3ms/epoch - 3ms/step\n",
            "Epoch 416/500\n",
            "1/1 - 0s - loss: 0.0184 - mse: 0.0184 - 3ms/epoch - 3ms/step\n",
            "Epoch 417/500\n",
            "1/1 - 0s - loss: 0.0183 - mse: 0.0183 - 4ms/epoch - 4ms/step\n",
            "Epoch 418/500\n",
            "1/1 - 0s - loss: 0.0183 - mse: 0.0183 - 10ms/epoch - 10ms/step\n",
            "Epoch 419/500\n",
            "1/1 - 0s - loss: 0.0182 - mse: 0.0182 - 3ms/epoch - 3ms/step\n",
            "Epoch 420/500\n",
            "1/1 - 0s - loss: 0.0182 - mse: 0.0182 - 4ms/epoch - 4ms/step\n",
            "Epoch 421/500\n",
            "1/1 - 0s - loss: 0.0181 - mse: 0.0181 - 3ms/epoch - 3ms/step\n",
            "Epoch 422/500\n",
            "1/1 - 0s - loss: 0.0181 - mse: 0.0181 - 3ms/epoch - 3ms/step\n",
            "Epoch 423/500\n",
            "1/1 - 0s - loss: 0.0180 - mse: 0.0180 - 3ms/epoch - 3ms/step\n",
            "Epoch 424/500\n",
            "1/1 - 0s - loss: 0.0180 - mse: 0.0180 - 3ms/epoch - 3ms/step\n",
            "Epoch 425/500\n",
            "1/1 - 0s - loss: 0.0179 - mse: 0.0179 - 3ms/epoch - 3ms/step\n",
            "Epoch 426/500\n",
            "1/1 - 0s - loss: 0.0179 - mse: 0.0179 - 4ms/epoch - 4ms/step\n",
            "Epoch 427/500\n",
            "1/1 - 0s - loss: 0.0178 - mse: 0.0178 - 3ms/epoch - 3ms/step\n",
            "Epoch 428/500\n",
            "1/1 - 0s - loss: 0.0178 - mse: 0.0178 - 3ms/epoch - 3ms/step\n",
            "Epoch 429/500\n",
            "1/1 - 0s - loss: 0.0177 - mse: 0.0177 - 3ms/epoch - 3ms/step\n",
            "Epoch 430/500\n",
            "1/1 - 0s - loss: 0.0177 - mse: 0.0177 - 3ms/epoch - 3ms/step\n",
            "Epoch 431/500\n",
            "1/1 - 0s - loss: 0.0176 - mse: 0.0176 - 3ms/epoch - 3ms/step\n",
            "Epoch 432/500\n",
            "1/1 - 0s - loss: 0.0176 - mse: 0.0176 - 4ms/epoch - 4ms/step\n",
            "Epoch 433/500\n",
            "1/1 - 0s - loss: 0.0176 - mse: 0.0176 - 4ms/epoch - 4ms/step\n",
            "Epoch 434/500\n",
            "1/1 - 0s - loss: 0.0175 - mse: 0.0175 - 4ms/epoch - 4ms/step\n",
            "Epoch 435/500\n",
            "1/1 - 0s - loss: 0.0175 - mse: 0.0175 - 3ms/epoch - 3ms/step\n",
            "Epoch 436/500\n",
            "1/1 - 0s - loss: 0.0174 - mse: 0.0174 - 4ms/epoch - 4ms/step\n",
            "Epoch 437/500\n",
            "1/1 - 0s - loss: 0.0174 - mse: 0.0174 - 3ms/epoch - 3ms/step\n",
            "Epoch 438/500\n",
            "1/1 - 0s - loss: 0.0173 - mse: 0.0173 - 5ms/epoch - 5ms/step\n",
            "Epoch 439/500\n",
            "1/1 - 0s - loss: 0.0173 - mse: 0.0173 - 3ms/epoch - 3ms/step\n",
            "Epoch 440/500\n",
            "1/1 - 0s - loss: 0.0172 - mse: 0.0172 - 3ms/epoch - 3ms/step\n",
            "Epoch 441/500\n",
            "1/1 - 0s - loss: 0.0172 - mse: 0.0172 - 3ms/epoch - 3ms/step\n",
            "Epoch 442/500\n",
            "1/1 - 0s - loss: 0.0172 - mse: 0.0172 - 3ms/epoch - 3ms/step\n",
            "Epoch 443/500\n",
            "1/1 - 0s - loss: 0.0171 - mse: 0.0171 - 4ms/epoch - 4ms/step\n",
            "Epoch 444/500\n",
            "1/1 - 0s - loss: 0.0171 - mse: 0.0171 - 4ms/epoch - 4ms/step\n",
            "Epoch 445/500\n",
            "1/1 - 0s - loss: 0.0170 - mse: 0.0170 - 4ms/epoch - 4ms/step\n",
            "Epoch 446/500\n",
            "1/1 - 0s - loss: 0.0170 - mse: 0.0170 - 3ms/epoch - 3ms/step\n",
            "Epoch 447/500\n",
            "1/1 - 0s - loss: 0.0169 - mse: 0.0169 - 3ms/epoch - 3ms/step\n",
            "Epoch 448/500\n",
            "1/1 - 0s - loss: 0.0169 - mse: 0.0169 - 3ms/epoch - 3ms/step\n",
            "Epoch 449/500\n",
            "1/1 - 0s - loss: 0.0168 - mse: 0.0168 - 4ms/epoch - 4ms/step\n",
            "Epoch 450/500\n",
            "1/1 - 0s - loss: 0.0168 - mse: 0.0168 - 3ms/epoch - 3ms/step\n",
            "Epoch 451/500\n",
            "1/1 - 0s - loss: 0.0168 - mse: 0.0168 - 3ms/epoch - 3ms/step\n",
            "Epoch 452/500\n",
            "1/1 - 0s - loss: 0.0167 - mse: 0.0167 - 3ms/epoch - 3ms/step\n",
            "Epoch 453/500\n",
            "1/1 - 0s - loss: 0.0167 - mse: 0.0167 - 3ms/epoch - 3ms/step\n",
            "Epoch 454/500\n",
            "1/1 - 0s - loss: 0.0166 - mse: 0.0166 - 3ms/epoch - 3ms/step\n",
            "Epoch 455/500\n",
            "1/1 - 0s - loss: 0.0166 - mse: 0.0166 - 4ms/epoch - 4ms/step\n",
            "Epoch 456/500\n",
            "1/1 - 0s - loss: 0.0166 - mse: 0.0166 - 3ms/epoch - 3ms/step\n",
            "Epoch 457/500\n",
            "1/1 - 0s - loss: 0.0165 - mse: 0.0165 - 3ms/epoch - 3ms/step\n",
            "Epoch 458/500\n",
            "1/1 - 0s - loss: 0.0165 - mse: 0.0165 - 3ms/epoch - 3ms/step\n",
            "Epoch 459/500\n",
            "1/1 - 0s - loss: 0.0164 - mse: 0.0164 - 3ms/epoch - 3ms/step\n",
            "Epoch 460/500\n",
            "1/1 - 0s - loss: 0.0164 - mse: 0.0164 - 3ms/epoch - 3ms/step\n",
            "Epoch 461/500\n",
            "1/1 - 0s - loss: 0.0164 - mse: 0.0164 - 3ms/epoch - 3ms/step\n",
            "Epoch 462/500\n",
            "1/1 - 0s - loss: 0.0163 - mse: 0.0163 - 3ms/epoch - 3ms/step\n",
            "Epoch 463/500\n",
            "1/1 - 0s - loss: 0.0163 - mse: 0.0163 - 4ms/epoch - 4ms/step\n",
            "Epoch 464/500\n",
            "1/1 - 0s - loss: 0.0162 - mse: 0.0162 - 3ms/epoch - 3ms/step\n",
            "Epoch 465/500\n",
            "1/1 - 0s - loss: 0.0162 - mse: 0.0162 - 3ms/epoch - 3ms/step\n",
            "Epoch 466/500\n",
            "1/1 - 0s - loss: 0.0162 - mse: 0.0162 - 4ms/epoch - 4ms/step\n",
            "Epoch 467/500\n",
            "1/1 - 0s - loss: 0.0161 - mse: 0.0161 - 3ms/epoch - 3ms/step\n",
            "Epoch 468/500\n",
            "1/1 - 0s - loss: 0.0161 - mse: 0.0161 - 3ms/epoch - 3ms/step\n",
            "Epoch 469/500\n",
            "1/1 - 0s - loss: 0.0160 - mse: 0.0160 - 3ms/epoch - 3ms/step\n",
            "Epoch 470/500\n",
            "1/1 - 0s - loss: 0.0160 - mse: 0.0160 - 5ms/epoch - 5ms/step\n",
            "Epoch 471/500\n",
            "1/1 - 0s - loss: 0.0160 - mse: 0.0160 - 3ms/epoch - 3ms/step\n",
            "Epoch 472/500\n",
            "1/1 - 0s - loss: 0.0159 - mse: 0.0159 - 3ms/epoch - 3ms/step\n",
            "Epoch 473/500\n",
            "1/1 - 0s - loss: 0.0159 - mse: 0.0159 - 3ms/epoch - 3ms/step\n",
            "Epoch 474/500\n",
            "1/1 - 0s - loss: 0.0158 - mse: 0.0158 - 3ms/epoch - 3ms/step\n",
            "Epoch 475/500\n",
            "1/1 - 0s - loss: 0.0158 - mse: 0.0158 - 5ms/epoch - 5ms/step\n",
            "Epoch 476/500\n",
            "1/1 - 0s - loss: 0.0158 - mse: 0.0158 - 3ms/epoch - 3ms/step\n",
            "Epoch 477/500\n",
            "1/1 - 0s - loss: 0.0157 - mse: 0.0157 - 3ms/epoch - 3ms/step\n",
            "Epoch 478/500\n",
            "1/1 - 0s - loss: 0.0157 - mse: 0.0157 - 3ms/epoch - 3ms/step\n",
            "Epoch 479/500\n",
            "1/1 - 0s - loss: 0.0157 - mse: 0.0157 - 3ms/epoch - 3ms/step\n",
            "Epoch 480/500\n",
            "1/1 - 0s - loss: 0.0156 - mse: 0.0156 - 3ms/epoch - 3ms/step\n",
            "Epoch 481/500\n",
            "1/1 - 0s - loss: 0.0156 - mse: 0.0156 - 3ms/epoch - 3ms/step\n",
            "Epoch 482/500\n",
            "1/1 - 0s - loss: 0.0155 - mse: 0.0155 - 5ms/epoch - 5ms/step\n",
            "Epoch 483/500\n",
            "1/1 - 0s - loss: 0.0155 - mse: 0.0155 - 3ms/epoch - 3ms/step\n",
            "Epoch 484/500\n",
            "1/1 - 0s - loss: 0.0155 - mse: 0.0155 - 3ms/epoch - 3ms/step\n",
            "Epoch 485/500\n",
            "1/1 - 0s - loss: 0.0154 - mse: 0.0154 - 3ms/epoch - 3ms/step\n",
            "Epoch 486/500\n",
            "1/1 - 0s - loss: 0.0154 - mse: 0.0154 - 3ms/epoch - 3ms/step\n",
            "Epoch 487/500\n",
            "1/1 - 0s - loss: 0.0154 - mse: 0.0154 - 3ms/epoch - 3ms/step\n",
            "Epoch 488/500\n",
            "1/1 - 0s - loss: 0.0153 - mse: 0.0153 - 3ms/epoch - 3ms/step\n",
            "Epoch 489/500\n",
            "1/1 - 0s - loss: 0.0153 - mse: 0.0153 - 3ms/epoch - 3ms/step\n",
            "Epoch 490/500\n",
            "1/1 - 0s - loss: 0.0153 - mse: 0.0153 - 3ms/epoch - 3ms/step\n",
            "Epoch 491/500\n",
            "1/1 - 0s - loss: 0.0152 - mse: 0.0152 - 5ms/epoch - 5ms/step\n",
            "Epoch 492/500\n",
            "1/1 - 0s - loss: 0.0152 - mse: 0.0152 - 3ms/epoch - 3ms/step\n",
            "Epoch 493/500\n",
            "1/1 - 0s - loss: 0.0152 - mse: 0.0152 - 3ms/epoch - 3ms/step\n",
            "Epoch 494/500\n",
            "1/1 - 0s - loss: 0.0151 - mse: 0.0151 - 3ms/epoch - 3ms/step\n",
            "Epoch 495/500\n",
            "1/1 - 0s - loss: 0.0151 - mse: 0.0151 - 3ms/epoch - 3ms/step\n",
            "Epoch 496/500\n",
            "1/1 - 0s - loss: 0.0150 - mse: 0.0150 - 4ms/epoch - 4ms/step\n",
            "Epoch 497/500\n",
            "1/1 - 0s - loss: 0.0150 - mse: 0.0150 - 3ms/epoch - 3ms/step\n",
            "Epoch 498/500\n",
            "1/1 - 0s - loss: 0.0150 - mse: 0.0150 - 5ms/epoch - 5ms/step\n",
            "Epoch 499/500\n",
            "1/1 - 0s - loss: 0.0149 - mse: 0.0149 - 3ms/epoch - 3ms/step\n",
            "Epoch 500/500\n",
            "1/1 - 0s - loss: 0.0149 - mse: 0.0149 - 3ms/epoch - 3ms/step\n"
          ]
        },
        {
          "output_type": "execute_result",
          "data": {
            "text/plain": [
              "<keras.callbacks.History at 0x7fb1b302d8d0>"
            ]
          },
          "metadata": {},
          "execution_count": 4
        }
      ]
    },
    {
      "cell_type": "code",
      "source": [
        "#학습된 신경망으로 예측\n",
        "res=perceptron.predict(x)\n",
        "print(res)"
      ],
      "metadata": {
        "colab": {
          "base_uri": "https://localhost:8080/"
        },
        "id": "MtIvupDro6XD",
        "outputId": "58e090b4-9fb8-4784-d799-f222b7fe1c50"
      },
      "execution_count": null,
      "outputs": [
        {
          "output_type": "stream",
          "name": "stdout",
          "text": [
            "[[-0.81639326]\n",
            " [ 0.88641125]\n",
            " [ 0.88641125]\n",
            " [ 0.9992673 ]]\n"
          ]
        }
      ]
    },
    {
      "cell_type": "code",
      "source": [
        "#텐서플로 프로그래밍:다층 퍼셉트론으로 MNIST 인식\n",
        "import numpy as np\n",
        "import tensorflow as tf\n",
        "from tensorflow.keras.datasets import mnist\n",
        "\n",
        "from tensorflow.keras.models import Sequential\n",
        "from tensorflow.keras.layers import Dense\n",
        "from tensorflow.keras.optimizers import Adam"
      ],
      "metadata": {
        "id": "IZA3WemVpBP8"
      },
      "execution_count": null,
      "outputs": []
    },
    {
      "cell_type": "code",
      "source": [
        "#MNIST 읽어 와서 신경망에 입력할 형태로 변환\n",
        "(x_train,y_train),(x_test,y_test) = mnist.load_data()\n",
        "x_train = x_train.reshape(60000,784)\n",
        "x_test = x_test.reshape(10000,784)\n",
        "x_train=x_train.astype(np.float32)/255.0\n",
        "x_test=x_test.astype(np.float32)/255.0\n",
        "y_train = tf.keras.utils.to_categorical(y_train,10)\n",
        "y_test = tf.keras.utils.to_categorical(y_test,10)\n"
      ],
      "metadata": {
        "colab": {
          "base_uri": "https://localhost:8080/"
        },
        "id": "EGS6RNjBwNgr",
        "outputId": "9cda4e73-54c5-4e8f-ba12-9ff5623acb51"
      },
      "execution_count": null,
      "outputs": [
        {
          "output_type": "stream",
          "name": "stdout",
          "text": [
            "Downloading data from https://storage.googleapis.com/tensorflow/tf-keras-datasets/mnist.npz\n",
            "11493376/11490434 [==============================] - 0s 0us/step\n",
            "11501568/11490434 [==============================] - 0s 0us/step\n"
          ]
        }
      ]
    },
    {
      "cell_type": "code",
      "source": [
        "#신경망 구조 설계\n",
        "n_input=784\n",
        "n_hidden=1024\n",
        "n_output=10\n",
        "\n",
        "mlp=Sequential()\n",
        "mlp.add(Dense(units=n_hidden,activation='tanh',input_shape=(n_input,),kernel_initializer='random_uniform',bias_initializer='zeros'))\n",
        "mlp.add(Dense(units=n_output,activation='tanh', kernel_initializer='random_uniform',bias_initializer='zeros'))                                #input_shape()있고 없고 차이 *해결 : 없는경우는 생략된 경우로 앞선 mlp.add에서의 units이 input_shape임을 알기 때문"
      ],
      "metadata": {
        "id": "3i5UcwZcxNZL"
      },
      "execution_count": null,
      "outputs": []
    },
    {
      "cell_type": "code",
      "source": [
        "#신경망 학습\n",
        "mlp.compile(loss='mean_squared_error', optimizer=Adam(learning_rate=0.001),metrics=['accuracy'])\n",
        "hist=mlp.fit(x_train,y_train,batch_size=128, epochs=30, validation_data=(x_test, y_test), verbose=2)"
      ],
      "metadata": {
        "colab": {
          "base_uri": "https://localhost:8080/"
        },
        "id": "bjOBEih4x90i",
        "outputId": "f2c25ddd-c70e-4572-a5e6-76cd2ccb95f8"
      },
      "execution_count": null,
      "outputs": [
        {
          "output_type": "stream",
          "name": "stdout",
          "text": [
            "Epoch 1/30\n",
            "469/469 - 7s - loss: 0.0423 - accuracy: 0.8472 - val_loss: 0.0298 - val_accuracy: 0.9097 - 7s/epoch - 14ms/step\n",
            "Epoch 2/30\n",
            "469/469 - 6s - loss: 0.0223 - accuracy: 0.9283 - val_loss: 0.0185 - val_accuracy: 0.9429 - 6s/epoch - 13ms/step\n",
            "Epoch 3/30\n",
            "469/469 - 6s - loss: 0.0165 - accuracy: 0.9466 - val_loss: 0.0151 - val_accuracy: 0.9502 - 6s/epoch - 13ms/step\n",
            "Epoch 4/30\n",
            "469/469 - 6s - loss: 0.0137 - accuracy: 0.9568 - val_loss: 0.0133 - val_accuracy: 0.9574 - 6s/epoch - 13ms/step\n",
            "Epoch 5/30\n",
            "469/469 - 6s - loss: 0.0121 - accuracy: 0.9627 - val_loss: 0.0121 - val_accuracy: 0.9608 - 6s/epoch - 13ms/step\n",
            "Epoch 6/30\n",
            "469/469 - 6s - loss: 0.0109 - accuracy: 0.9679 - val_loss: 0.0114 - val_accuracy: 0.9625 - 6s/epoch - 13ms/step\n",
            "Epoch 7/30\n",
            "469/469 - 6s - loss: 0.0101 - accuracy: 0.9709 - val_loss: 0.0104 - val_accuracy: 0.9654 - 6s/epoch - 13ms/step\n",
            "Epoch 8/30\n",
            "469/469 - 6s - loss: 0.0094 - accuracy: 0.9734 - val_loss: 0.0103 - val_accuracy: 0.9665 - 6s/epoch - 13ms/step\n",
            "Epoch 9/30\n",
            "469/469 - 6s - loss: 0.0088 - accuracy: 0.9760 - val_loss: 0.0094 - val_accuracy: 0.9706 - 6s/epoch - 13ms/step\n",
            "Epoch 10/30\n",
            "469/469 - 6s - loss: 0.0084 - accuracy: 0.9775 - val_loss: 0.0097 - val_accuracy: 0.9698 - 6s/epoch - 13ms/step\n",
            "Epoch 11/30\n",
            "469/469 - 6s - loss: 0.0080 - accuracy: 0.9791 - val_loss: 0.0091 - val_accuracy: 0.9700 - 6s/epoch - 13ms/step\n",
            "Epoch 12/30\n",
            "469/469 - 6s - loss: 0.0077 - accuracy: 0.9805 - val_loss: 0.0087 - val_accuracy: 0.9725 - 6s/epoch - 13ms/step\n",
            "Epoch 13/30\n",
            "469/469 - 6s - loss: 0.0073 - accuracy: 0.9817 - val_loss: 0.0083 - val_accuracy: 0.9717 - 6s/epoch - 13ms/step\n",
            "Epoch 14/30\n",
            "469/469 - 6s - loss: 0.0071 - accuracy: 0.9828 - val_loss: 0.0087 - val_accuracy: 0.9737 - 6s/epoch - 13ms/step\n",
            "Epoch 15/30\n",
            "469/469 - 6s - loss: 0.0068 - accuracy: 0.9838 - val_loss: 0.0083 - val_accuracy: 0.9731 - 6s/epoch - 13ms/step\n",
            "Epoch 16/30\n",
            "469/469 - 6s - loss: 0.0066 - accuracy: 0.9849 - val_loss: 0.0083 - val_accuracy: 0.9738 - 6s/epoch - 13ms/step\n",
            "Epoch 17/30\n",
            "469/469 - 6s - loss: 0.0063 - accuracy: 0.9857 - val_loss: 0.0081 - val_accuracy: 0.9744 - 6s/epoch - 13ms/step\n",
            "Epoch 18/30\n",
            "469/469 - 6s - loss: 0.0062 - accuracy: 0.9863 - val_loss: 0.0084 - val_accuracy: 0.9753 - 6s/epoch - 13ms/step\n",
            "Epoch 19/30\n",
            "469/469 - 6s - loss: 0.0061 - accuracy: 0.9874 - val_loss: 0.0077 - val_accuracy: 0.9760 - 6s/epoch - 13ms/step\n",
            "Epoch 20/30\n",
            "469/469 - 6s - loss: 0.0059 - accuracy: 0.9879 - val_loss: 0.0079 - val_accuracy: 0.9751 - 6s/epoch - 13ms/step\n",
            "Epoch 21/30\n",
            "469/469 - 6s - loss: 0.0057 - accuracy: 0.9884 - val_loss: 0.0077 - val_accuracy: 0.9752 - 6s/epoch - 13ms/step\n",
            "Epoch 22/30\n",
            "469/469 - 6s - loss: 0.0056 - accuracy: 0.9891 - val_loss: 0.0077 - val_accuracy: 0.9759 - 6s/epoch - 13ms/step\n",
            "Epoch 23/30\n",
            "469/469 - 6s - loss: 0.0054 - accuracy: 0.9898 - val_loss: 0.0079 - val_accuracy: 0.9757 - 6s/epoch - 13ms/step\n",
            "Epoch 24/30\n",
            "469/469 - 6s - loss: 0.0054 - accuracy: 0.9900 - val_loss: 0.0080 - val_accuracy: 0.9764 - 6s/epoch - 13ms/step\n",
            "Epoch 25/30\n",
            "469/469 - 6s - loss: 0.0052 - accuracy: 0.9903 - val_loss: 0.0080 - val_accuracy: 0.9756 - 6s/epoch - 13ms/step\n",
            "Epoch 26/30\n",
            "469/469 - 6s - loss: 0.0051 - accuracy: 0.9911 - val_loss: 0.0075 - val_accuracy: 0.9760 - 6s/epoch - 13ms/step\n",
            "Epoch 27/30\n",
            "469/469 - 6s - loss: 0.0050 - accuracy: 0.9915 - val_loss: 0.0075 - val_accuracy: 0.9769 - 6s/epoch - 13ms/step\n",
            "Epoch 28/30\n",
            "469/469 - 6s - loss: 0.0049 - accuracy: 0.9917 - val_loss: 0.0074 - val_accuracy: 0.9759 - 6s/epoch - 13ms/step\n",
            "Epoch 29/30\n",
            "469/469 - 6s - loss: 0.0048 - accuracy: 0.9919 - val_loss: 0.0078 - val_accuracy: 0.9765 - 6s/epoch - 13ms/step\n",
            "Epoch 30/30\n",
            "469/469 - 6s - loss: 0.0047 - accuracy: 0.9925 - val_loss: 0.0073 - val_accuracy: 0.9755 - 6s/epoch - 13ms/step\n"
          ]
        }
      ]
    },
    {
      "cell_type": "code",
      "source": [
        "#학습된 신경망으로 예측\n",
        "res=mlp.evaluate(x_test,y_test,verbose=0)\n",
        "print(\"정확률은\",res[1]*100)"
      ],
      "metadata": {
        "colab": {
          "base_uri": "https://localhost:8080/"
        },
        "id": "Xi1c6jHyyep3",
        "outputId": "1de6a720-b596-415a-8d0f-2db5bcb62332"
      },
      "execution_count": null,
      "outputs": [
        {
          "output_type": "stream",
          "name": "stdout",
          "text": [
            "정확률은 97.54999876022339\n"
          ]
        }
      ]
    },
    {
      "cell_type": "code",
      "source": [
        "#텐서플로 프로그래밍: 다층 퍼셉트론으로 MNIST 인식\n",
        "import matplotlib.pyplot as plt"
      ],
      "metadata": {
        "id": "tayH040jyoNf"
      },
      "execution_count": null,
      "outputs": []
    },
    {
      "cell_type": "code",
      "source": [
        "#정확률 곡선\n",
        "plt.plot(hist.history['accuracy'])\n",
        "plt.plot(hist.history['val_accuracy'])\n",
        "plt.title('Model accuracy')\n",
        "plt.ylabel('Accuracy')\n",
        "plt.xlabel('Epoch')\n",
        "plt.legend(['Train','Validation'], loc='upper left')\n",
        "plt.grid()\n",
        "plt.show()"
      ],
      "metadata": {
        "colab": {
          "base_uri": "https://localhost:8080/",
          "height": 295
        },
        "id": "w89e8cm-RlY0",
        "outputId": "331b2975-f577-4a02-e043-a98e8437151e"
      },
      "execution_count": null,
      "outputs": [
        {
          "output_type": "display_data",
          "data": {
            "image/png": "[encoded data removed]",
            "text/plain": [
              "<Figure size 432x288 with 1 Axes>"
            ]
          },
          "metadata": {
            "needs_background": "light"
          }
        }
      ]
    },
    {
      "cell_type": "code",
      "source": [
        "#손실함수 복원\n",
        "plt.plot(hist.history['loss'])\n",
        "plt.plot(hist.history['val_loss'])\n",
        "plt.title('Model loss')\n",
        "plt.ylabel('Loss')\n",
        "plt.xlabel('Epoch')\n",
        "plt.legend(['Train','Validation'], loc='upper right')\n",
        "plt.grid()\n",
        "plt.show()"
      ],
      "metadata": {
        "colab": {
          "base_uri": "https://localhost:8080/",
          "height": 295
        },
        "id": "kM984jw9SF_u",
        "outputId": "388742b0-e318-46f1-85e8-0d7209c6e19e"
      },
      "execution_count": null,
      "outputs": [
        {
          "output_type": "display_data",
          "data": {
            "image/png": "[encoded data removed]",
            "text/plain": [
              "<Figure size 432x288 with 1 Axes>"
            ]
          },
          "metadata": {
            "needs_background": "light"
          }
        }
      ]
    },
    {
      "cell_type": "code",
      "source": [
        "#프로그램 5-8 텐서플로 프로그래밍: 다층 퍼셉트론으로 fashion MNIST 인식\n",
        "import numpy as np\n",
        "import tensorflow as tf\n",
        "from tensorflow.keras.datasets import fashion_mnist\n",
        "from tensorflow.keras.models import Sequential\n",
        "from tensorflow.keras.layers import Dense\n",
        "from tensorflow.keras.optimizers import Adam"
      ],
      "metadata": {
        "id": "vNebXbSsSgIB"
      },
      "execution_count": null,
      "outputs": []
    },
    {
      "cell_type": "code",
      "source": [
        "#fashions MNIST 데이터셋을 읽어와 신경망에 입력할 형태로 변환\n",
        "(x_train, y_train),(x_test, y_test) = fashion_mnist.load_data()"
      ],
      "metadata": {
        "id": "IexUNwasUB28"
      },
      "execution_count": null,
      "outputs": []
    },
    {
      "cell_type": "code",
      "source": [
        "#MNIST 읽어 와서 신경망에 입력할 형태로 변환\n",
        "x_train = x_train.reshape(60000,784)\n",
        "x_test = x_test.reshape(10000,784)\n",
        "x_train=x_train.astype(np.float32)/255.0\n",
        "x_test=x_test.astype(np.float32)/255.0\n",
        "y_train = tf.keras.utils.to_categorical(y_train,10)\n",
        "y_test = tf.keras.utils.to_categorical(y_test,10)\n",
        "\n",
        "#신경망 구조 설계\n",
        "n_input=784\n",
        "n_hidden=1024\n",
        "n_output=10\n",
        "\n",
        "mlp=Sequential()\n",
        "mlp.add(Dense(units=n_hidden,activation='tanh',input_shape=(n_input,),kernel_initializer='random_uniform',bias_initializer='zeros'))\n",
        "mlp.add(Dense(units=n_output,activation='tanh', kernel_initializer='random_uniform',bias_initializer='zeros'))    \n",
        "\n",
        "#신경망 학습\n",
        "mlp.compile(loss='mean_squared_error', optimizer=Adam(learning_rate=0.001),metrics=['accuracy'])\n",
        "hist=mlp.fit(x_train,y_train,batch_size=128, epochs=30, validation_data=(x_test, y_test), verbose=2)\n",
        "\n",
        "#학습된 신경망으로 예측\n",
        "res=mlp.evaluate(x_test,y_test,verbose=0)\n",
        "print(\"정확률은\",res[1]*100)\n",
        "\n",
        "#정확률 곡선\n",
        "plt.plot(hist.history['accuracy'])\n",
        "plt.plot(hist.history['val_accuracy'])\n",
        "plt.title('Model accuracy')\n",
        "plt.ylabel('Accuracy')\n",
        "plt.xlabel('Epoch')\n",
        "plt.legend(['Train','Validation'], loc='upper left')\n",
        "plt.grid()\n",
        "plt.show()\n",
        "\n",
        "#손실함수 복원\n",
        "plt.plot(hist.history['loss'])\n",
        "plt.plot(hist.history['val_loss'])\n",
        "plt.title('Model loss')\n",
        "plt.ylabel('Loss')\n",
        "plt.xlabel('Epoch')\n",
        "plt.legend(['Train','Validation'], loc='upper right')\n",
        "plt.grid()\n",
        "plt.show()\n",
        "\n",
        "'''Epoch 30/30\n",
        "469/469 <- 왜 책에서는 60000인데 469로 나오노\n",
        "'''"
      ],
      "metadata": {
        "colab": {
          "base_uri": "https://localhost:8080/",
          "height": 1000
        },
        "id": "6BVcLbInUP3y",
        "outputId": "1a346133-a92d-41fd-bebc-ebc7a714ad6e"
      },
      "execution_count": null,
      "outputs": [
        {
          "output_type": "stream",
          "name": "stdout",
          "text": [
            "Epoch 1/30\n",
            "469/469 - 6s - loss: 0.0868 - accuracy: 0.5591 - val_loss: 0.0353 - val_accuracy: 0.8220 - 6s/epoch - 13ms/step\n",
            "Epoch 2/30\n",
            "469/469 - 6s - loss: 0.0305 - accuracy: 0.8435 - val_loss: 0.0301 - val_accuracy: 0.8394 - 6s/epoch - 12ms/step\n",
            "Epoch 3/30\n",
            "469/469 - 6s - loss: 0.0268 - accuracy: 0.8583 - val_loss: 0.0270 - val_accuracy: 0.8465 - 6s/epoch - 13ms/step\n",
            "Epoch 4/30\n",
            "469/469 - 6s - loss: 0.0250 - accuracy: 0.8676 - val_loss: 0.0260 - val_accuracy: 0.8560 - 6s/epoch - 13ms/step\n",
            "Epoch 5/30\n",
            "469/469 - 6s - loss: 0.0239 - accuracy: 0.8741 - val_loss: 0.0247 - val_accuracy: 0.8582 - 6s/epoch - 13ms/step\n",
            "Epoch 6/30\n",
            "469/469 - 6s - loss: 0.0227 - accuracy: 0.8797 - val_loss: 0.0246 - val_accuracy: 0.8660 - 6s/epoch - 13ms/step\n",
            "Epoch 7/30\n",
            "469/469 - 6s - loss: 0.0214 - accuracy: 0.8863 - val_loss: 0.0223 - val_accuracy: 0.8725 - 6s/epoch - 12ms/step\n",
            "Epoch 8/30\n",
            "469/469 - 6s - loss: 0.0207 - accuracy: 0.8898 - val_loss: 0.0241 - val_accuracy: 0.8714 - 6s/epoch - 13ms/step\n",
            "Epoch 9/30\n",
            "469/469 - 6s - loss: 0.0201 - accuracy: 0.8932 - val_loss: 0.0222 - val_accuracy: 0.8758 - 6s/epoch - 13ms/step\n",
            "Epoch 10/30\n",
            "469/469 - 6s - loss: 0.0195 - accuracy: 0.8966 - val_loss: 0.0219 - val_accuracy: 0.8776 - 6s/epoch - 13ms/step\n",
            "Epoch 11/30\n",
            "469/469 - 6s - loss: 0.0190 - accuracy: 0.8998 - val_loss: 0.0218 - val_accuracy: 0.8789 - 6s/epoch - 13ms/step\n",
            "Epoch 12/30\n",
            "469/469 - 6s - loss: 0.0186 - accuracy: 0.9022 - val_loss: 0.0203 - val_accuracy: 0.8818 - 6s/epoch - 13ms/step\n",
            "Epoch 13/30\n",
            "469/469 - 6s - loss: 0.0181 - accuracy: 0.9054 - val_loss: 0.0208 - val_accuracy: 0.8820 - 6s/epoch - 13ms/step\n",
            "Epoch 14/30\n",
            "469/469 - 6s - loss: 0.0177 - accuracy: 0.9079 - val_loss: 0.0215 - val_accuracy: 0.8851 - 6s/epoch - 13ms/step\n",
            "Epoch 15/30\n",
            "469/469 - 6s - loss: 0.0173 - accuracy: 0.9112 - val_loss: 0.0235 - val_accuracy: 0.8866 - 6s/epoch - 13ms/step\n",
            "Epoch 16/30\n",
            "469/469 - 6s - loss: 0.0170 - accuracy: 0.9132 - val_loss: 0.0208 - val_accuracy: 0.8890 - 6s/epoch - 13ms/step\n",
            "Epoch 17/30\n",
            "469/469 - 6s - loss: 0.0166 - accuracy: 0.9158 - val_loss: 0.0195 - val_accuracy: 0.8872 - 6s/epoch - 13ms/step\n",
            "Epoch 18/30\n",
            "469/469 - 6s - loss: 0.0162 - accuracy: 0.9180 - val_loss: 0.0207 - val_accuracy: 0.8865 - 6s/epoch - 13ms/step\n",
            "Epoch 19/30\n",
            "469/469 - 6s - loss: 0.0160 - accuracy: 0.9203 - val_loss: 0.0205 - val_accuracy: 0.8862 - 6s/epoch - 13ms/step\n",
            "Epoch 20/30\n",
            "469/469 - 6s - loss: 0.0156 - accuracy: 0.9237 - val_loss: 0.0206 - val_accuracy: 0.8860 - 6s/epoch - 13ms/step\n",
            "Epoch 21/30\n",
            "469/469 - 6s - loss: 0.0154 - accuracy: 0.9254 - val_loss: 0.0195 - val_accuracy: 0.8908 - 6s/epoch - 13ms/step\n",
            "Epoch 22/30\n",
            "469/469 - 6s - loss: 0.0151 - accuracy: 0.9271 - val_loss: 0.0201 - val_accuracy: 0.8914 - 6s/epoch - 13ms/step\n",
            "Epoch 23/30\n",
            "469/469 - 6s - loss: 0.0149 - accuracy: 0.9291 - val_loss: 0.0199 - val_accuracy: 0.8907 - 6s/epoch - 13ms/step\n",
            "Epoch 24/30\n",
            "469/469 - 6s - loss: 0.0146 - accuracy: 0.9307 - val_loss: 0.0203 - val_accuracy: 0.8903 - 6s/epoch - 13ms/step\n",
            "Epoch 25/30\n",
            "469/469 - 6s - loss: 0.0144 - accuracy: 0.9323 - val_loss: 0.0190 - val_accuracy: 0.8926 - 6s/epoch - 13ms/step\n",
            "Epoch 26/30\n",
            "469/469 - 6s - loss: 0.0140 - accuracy: 0.9338 - val_loss: 0.0187 - val_accuracy: 0.8937 - 6s/epoch - 13ms/step\n",
            "Epoch 27/30\n",
            "469/469 - 6s - loss: 0.0139 - accuracy: 0.9361 - val_loss: 0.0205 - val_accuracy: 0.8932 - 6s/epoch - 13ms/step\n",
            "Epoch 28/30\n",
            "469/469 - 6s - loss: 0.0136 - accuracy: 0.9370 - val_loss: 0.0201 - val_accuracy: 0.8926 - 6s/epoch - 13ms/step\n",
            "Epoch 29/30\n",
            "469/469 - 6s - loss: 0.0134 - accuracy: 0.9389 - val_loss: 0.0183 - val_accuracy: 0.8953 - 6s/epoch - 13ms/step\n",
            "Epoch 30/30\n",
            "469/469 - 6s - loss: 0.0131 - accuracy: 0.9410 - val_loss: 0.0188 - val_accuracy: 0.8937 - 6s/epoch - 13ms/step\n",
            "정확률은 89.37000036239624\n"
          ]
        },
        {
          "output_type": "display_data",
          "data": {
            "image/png": "[encoded data removed]",
            "text/plain": [
              "<Figure size 432x288 with 1 Axes>"
            ]
          },
          "metadata": {
            "needs_background": "light"
          }
        },
        {
          "output_type": "display_data",
          "data": {
            "image/png": "[encoded data removed]",
            "text/plain": [
              "<Figure size 432x288 with 1 Axes>"
            ]
          },
          "metadata": {
            "needs_background": "light"
          }
        },
        {
          "output_type": "execute_result",
          "data": {
            "application/vnd.google.colaboratory.intrinsic+json": {
              "type": "string"
            },
            "text/plain": [
              "'Epoch 30/30\\n469/469 <- 왜 책에서는 60000인데 469로 나오노\\n'"
            ]
          },
          "metadata": {},
          "execution_count": 32
        }
      ]
    },
    {
      "cell_type": "code",
      "source": [
        "#옵티마이저의 성능 비교:SGD, Adam, Adagrad, RMSprop\n",
        "import numpy as np\n",
        "import tensorflow as tf\n",
        "from tensorflow.keras.datasets import fashion_mnist\n",
        "from tensorflow.keras.models import Sequential\n",
        "from tensorflow.keras.layers import Dense\n",
        "from tensorflow.keras.optimizers import SGD, Adam, Adagrad, RMSprop"
      ],
      "metadata": {
        "id": "T5gbc2uheL2z"
      },
      "execution_count": 13,
      "outputs": []
    },
    {
      "cell_type": "code",
      "source": [
        "#fashion MNIST 읽5어 와서 신경망에 입력할 형태로 변환\n",
        "(x_train, y_train),(x_test, y_test) = fashion_mnist.load_data()\n",
        "x_train = x_train.reshape(60000,784)\n",
        "x_test = x_test.reshape(10000,784)\n",
        "x_train=x_train.astype(np.float32)/255.0\n",
        "x_test=x_test.astype(np.float32)/255.0\n",
        "y_train = tf.keras.utils.to_categorical(y_train,10)\n",
        "y_test = tf.keras.utils.to_categorical(y_test,10)\n"
      ],
      "metadata": {
        "id": "MwOxBm47PMOV"
      },
      "execution_count": 14,
      "outputs": []
    },
    {
      "cell_type": "code",
      "source": [
        "#신경망 구조 설정\n",
        "n_input = 784\n",
        "n_hidden1 = 1024\n",
        "n_hidden2 = 512\n",
        "n_hidden3 = 512\n",
        "n_hidden4 = 512\n",
        "n_output=10"
      ],
      "metadata": {
        "id": "Hvw2Kiw8QHsh"
      },
      "execution_count": 15,
      "outputs": []
    },
    {
      "cell_type": "code",
      "source": [
        "#하이퍼 매개변수 설정\n",
        "batch_siz = 256\n",
        "n_epoch=50"
      ],
      "metadata": {
        "id": "skgd5DxHQTmD"
      },
      "execution_count": 16,
      "outputs": []
    },
    {
      "cell_type": "code",
      "source": [
        "#모델을 설계해주는 함수(모델을 나타내는 객체 model을 반환)\n",
        "def build_model():\n",
        "  model=Sequential()\n",
        "  model.add(Dense(units=n_hidden1, activation='relu',input_shape=(n_input,)))\n",
        "  model.add(Dense(units=n_hidden2, activation='relu'))\n",
        "  model.add(Dense(units=n_hidden3, activation='relu'))\n",
        "  model.add(Dense(units=n_hidden4, activation='relu'))\n",
        "  model.add(Dense(units=n_output, activation='softmax'))\n",
        "  return model"
      ],
      "metadata": {
        "id": "2sSyPQv4QZOT"
      },
      "execution_count": 17,
      "outputs": []
    },
    {
      "cell_type": "code",
      "source": [
        "#SGD optimizer을 사용하는 모델\n",
        "dmlp_sgd=build_model()\n",
        "dmlp_sgd.compile(loss='categorical_crossentropy', optimizer=SGD(),metrics=['accuracy'])\n",
        "hist=sgd=dmlp_sgd.fit(x_train, y_train, batch_size=batch_siz,epochs=n_epoch, validation_data=(x_test, y_test),verbose=2)"
      ],
      "metadata": {
        "id": "jX0wRwbOQ9cG",
        "outputId": "50cad837-b6c8-4a20-9dae-d098172ded87",
        "colab": {
          "base_uri": "https://localhost:8080/"
        }
      },
      "execution_count": 18,
      "outputs": [
        {
          "output_type": "stream",
          "name": "stdout",
          "text": [
            "Epoch 1/50\n",
            "235/235 - 14s - loss: 1.3488 - accuracy: 0.6083 - val_loss: 0.8399 - val_accuracy: 0.7021 - 14s/epoch - 59ms/step\n",
            "Epoch 2/50\n",
            "235/235 - 13s - loss: 0.7139 - accuracy: 0.7617 - val_loss: 0.6585 - val_accuracy: 0.7766 - 13s/epoch - 54ms/step\n",
            "Epoch 3/50\n",
            "235/235 - 13s - loss: 0.5972 - accuracy: 0.7985 - val_loss: 0.5802 - val_accuracy: 0.8006 - 13s/epoch - 55ms/step\n",
            "Epoch 4/50\n",
            "235/235 - 13s - loss: 0.5465 - accuracy: 0.8106 - val_loss: 0.5425 - val_accuracy: 0.8116 - 13s/epoch - 55ms/step\n",
            "Epoch 5/50\n",
            "235/235 - 13s - loss: 0.5083 - accuracy: 0.8231 - val_loss: 0.5162 - val_accuracy: 0.8204 - 13s/epoch - 54ms/step\n",
            "Epoch 6/50\n",
            "235/235 - 13s - loss: 0.4870 - accuracy: 0.8301 - val_loss: 0.5152 - val_accuracy: 0.8149 - 13s/epoch - 55ms/step\n",
            "Epoch 7/50\n",
            "235/235 - 13s - loss: 0.4708 - accuracy: 0.8349 - val_loss: 0.4940 - val_accuracy: 0.8243 - 13s/epoch - 55ms/step\n",
            "Epoch 8/50\n",
            "235/235 - 13s - loss: 0.4552 - accuracy: 0.8413 - val_loss: 0.5562 - val_accuracy: 0.8071 - 13s/epoch - 54ms/step\n",
            "Epoch 9/50\n",
            "235/235 - 13s - loss: 0.4461 - accuracy: 0.8439 - val_loss: 0.4906 - val_accuracy: 0.8262 - 13s/epoch - 55ms/step\n",
            "Epoch 10/50\n",
            "235/235 - 13s - loss: 0.4325 - accuracy: 0.8486 - val_loss: 0.4673 - val_accuracy: 0.8353 - 13s/epoch - 54ms/step\n",
            "Epoch 11/50\n",
            "235/235 - 13s - loss: 0.4243 - accuracy: 0.8516 - val_loss: 0.5658 - val_accuracy: 0.7855 - 13s/epoch - 54ms/step\n",
            "Epoch 12/50\n",
            "235/235 - 13s - loss: 0.4163 - accuracy: 0.8544 - val_loss: 0.6174 - val_accuracy: 0.7768 - 13s/epoch - 55ms/step\n",
            "Epoch 13/50\n",
            "235/235 - 13s - loss: 0.4087 - accuracy: 0.8571 - val_loss: 0.4593 - val_accuracy: 0.8388 - 13s/epoch - 54ms/step\n",
            "Epoch 14/50\n",
            "235/235 - 13s - loss: 0.4016 - accuracy: 0.8595 - val_loss: 0.4391 - val_accuracy: 0.8445 - 13s/epoch - 54ms/step\n",
            "Epoch 15/50\n",
            "235/235 - 13s - loss: 0.3925 - accuracy: 0.8635 - val_loss: 0.4297 - val_accuracy: 0.8479 - 13s/epoch - 54ms/step\n",
            "Epoch 16/50\n",
            "235/235 - 13s - loss: 0.3904 - accuracy: 0.8627 - val_loss: 0.4315 - val_accuracy: 0.8459 - 13s/epoch - 54ms/step\n",
            "Epoch 17/50\n",
            "235/235 - 13s - loss: 0.3859 - accuracy: 0.8644 - val_loss: 0.4254 - val_accuracy: 0.8519 - 13s/epoch - 54ms/step\n",
            "Epoch 18/50\n",
            "235/235 - 13s - loss: 0.3777 - accuracy: 0.8668 - val_loss: 0.4192 - val_accuracy: 0.8530 - 13s/epoch - 55ms/step\n",
            "Epoch 19/50\n",
            "235/235 - 13s - loss: 0.3750 - accuracy: 0.8676 - val_loss: 0.4711 - val_accuracy: 0.8263 - 13s/epoch - 54ms/step\n",
            "Epoch 20/50\n",
            "235/235 - 13s - loss: 0.3675 - accuracy: 0.8703 - val_loss: 0.4189 - val_accuracy: 0.8518 - 13s/epoch - 55ms/step\n",
            "Epoch 21/50\n",
            "235/235 - 13s - loss: 0.3618 - accuracy: 0.8721 - val_loss: 0.4176 - val_accuracy: 0.8514 - 13s/epoch - 55ms/step\n",
            "Epoch 22/50\n",
            "235/235 - 13s - loss: 0.3585 - accuracy: 0.8742 - val_loss: 0.4720 - val_accuracy: 0.8357 - 13s/epoch - 55ms/step\n",
            "Epoch 23/50\n",
            "235/235 - 13s - loss: 0.3564 - accuracy: 0.8746 - val_loss: 0.4224 - val_accuracy: 0.8514 - 13s/epoch - 55ms/step\n",
            "Epoch 24/50\n",
            "235/235 - 13s - loss: 0.3526 - accuracy: 0.8750 - val_loss: 0.4163 - val_accuracy: 0.8527 - 13s/epoch - 54ms/step\n",
            "Epoch 25/50\n",
            "235/235 - 13s - loss: 0.3475 - accuracy: 0.8767 - val_loss: 0.4061 - val_accuracy: 0.8514 - 13s/epoch - 54ms/step\n",
            "Epoch 26/50\n",
            "235/235 - 13s - loss: 0.3430 - accuracy: 0.8788 - val_loss: 0.3935 - val_accuracy: 0.8615 - 13s/epoch - 54ms/step\n",
            "Epoch 27/50\n",
            "235/235 - 13s - loss: 0.3405 - accuracy: 0.8798 - val_loss: 0.3882 - val_accuracy: 0.8611 - 13s/epoch - 54ms/step\n",
            "Epoch 28/50\n",
            "235/235 - 13s - loss: 0.3387 - accuracy: 0.8805 - val_loss: 0.4226 - val_accuracy: 0.8518 - 13s/epoch - 54ms/step\n",
            "Epoch 29/50\n",
            "235/235 - 13s - loss: 0.3328 - accuracy: 0.8817 - val_loss: 0.3967 - val_accuracy: 0.8585 - 13s/epoch - 54ms/step\n",
            "Epoch 30/50\n",
            "235/235 - 13s - loss: 0.3306 - accuracy: 0.8817 - val_loss: 0.4211 - val_accuracy: 0.8470 - 13s/epoch - 54ms/step\n",
            "Epoch 31/50\n",
            "235/235 - 13s - loss: 0.3252 - accuracy: 0.8838 - val_loss: 0.3937 - val_accuracy: 0.8568 - 13s/epoch - 54ms/step\n",
            "Epoch 32/50\n",
            "235/235 - 13s - loss: 0.3249 - accuracy: 0.8847 - val_loss: 0.3879 - val_accuracy: 0.8611 - 13s/epoch - 55ms/step\n",
            "Epoch 33/50\n",
            "235/235 - 13s - loss: 0.3193 - accuracy: 0.8863 - val_loss: 0.3771 - val_accuracy: 0.8656 - 13s/epoch - 55ms/step\n",
            "Epoch 34/50\n",
            "235/235 - 13s - loss: 0.3158 - accuracy: 0.8867 - val_loss: 0.3902 - val_accuracy: 0.8605 - 13s/epoch - 55ms/step\n",
            "Epoch 35/50\n",
            "235/235 - 13s - loss: 0.3167 - accuracy: 0.8870 - val_loss: 0.3690 - val_accuracy: 0.8680 - 13s/epoch - 55ms/step\n",
            "Epoch 36/50\n",
            "235/235 - 13s - loss: 0.3131 - accuracy: 0.8885 - val_loss: 0.3715 - val_accuracy: 0.8692 - 13s/epoch - 54ms/step\n",
            "Epoch 37/50\n",
            "235/235 - 13s - loss: 0.3083 - accuracy: 0.8900 - val_loss: 0.3676 - val_accuracy: 0.8678 - 13s/epoch - 54ms/step\n",
            "Epoch 38/50\n",
            "235/235 - 13s - loss: 0.3048 - accuracy: 0.8910 - val_loss: 0.4556 - val_accuracy: 0.8427 - 13s/epoch - 55ms/step\n",
            "Epoch 39/50\n",
            "235/235 - 13s - loss: 0.3059 - accuracy: 0.8904 - val_loss: 0.3920 - val_accuracy: 0.8592 - 13s/epoch - 54ms/step\n",
            "Epoch 40/50\n",
            "235/235 - 13s - loss: 0.3021 - accuracy: 0.8915 - val_loss: 0.3683 - val_accuracy: 0.8689 - 13s/epoch - 54ms/step\n",
            "Epoch 41/50\n",
            "235/235 - 13s - loss: 0.2986 - accuracy: 0.8923 - val_loss: 0.4161 - val_accuracy: 0.8521 - 13s/epoch - 55ms/step\n",
            "Epoch 42/50\n",
            "235/235 - 13s - loss: 0.2956 - accuracy: 0.8942 - val_loss: 0.3697 - val_accuracy: 0.8691 - 13s/epoch - 54ms/step\n",
            "Epoch 43/50\n",
            "235/235 - 13s - loss: 0.2934 - accuracy: 0.8950 - val_loss: 0.3555 - val_accuracy: 0.8708 - 13s/epoch - 55ms/step\n",
            "Epoch 44/50\n",
            "235/235 - 13s - loss: 0.2935 - accuracy: 0.8951 - val_loss: 0.3516 - val_accuracy: 0.8755 - 13s/epoch - 55ms/step\n",
            "Epoch 45/50\n",
            "235/235 - 13s - loss: 0.2915 - accuracy: 0.8956 - val_loss: 0.3644 - val_accuracy: 0.8693 - 13s/epoch - 55ms/step\n",
            "Epoch 46/50\n",
            "235/235 - 13s - loss: 0.2853 - accuracy: 0.8972 - val_loss: 0.3530 - val_accuracy: 0.8742 - 13s/epoch - 55ms/step\n",
            "Epoch 47/50\n",
            "235/235 - 13s - loss: 0.2838 - accuracy: 0.8974 - val_loss: 0.3609 - val_accuracy: 0.8700 - 13s/epoch - 55ms/step\n",
            "Epoch 48/50\n",
            "235/235 - 13s - loss: 0.2799 - accuracy: 0.8987 - val_loss: 0.3484 - val_accuracy: 0.8747 - 13s/epoch - 55ms/step\n",
            "Epoch 49/50\n",
            "235/235 - 13s - loss: 0.2770 - accuracy: 0.9007 - val_loss: 0.3425 - val_accuracy: 0.8768 - 13s/epoch - 55ms/step\n",
            "Epoch 50/50\n",
            "235/235 - 13s - loss: 0.2783 - accuracy: 0.8992 - val_loss: 0.3768 - val_accuracy: 0.8638 - 13s/epoch - 55ms/step\n"
          ]
        }
      ]
    },
    {
      "cell_type": "code",
      "source": [
        "#Adam optimizer을 사용하는 모델\n",
        "dmlp_Adam=build_model()\n",
        "dmlp_Adam.compile(loss='categorical_crossentropy', optimizer=Adam(),metrics=['accuracy'])\n",
        "hist=Adam=dmlp_Adam.fit(x_train, y_train, batch_size=batch_siz,epochs=n_epoch, validation_data=(x_test, y_test),verbose=2)"
      ],
      "metadata": {
        "id": "wD16jctwRki9",
        "outputId": "0ee25da4-0462-47cd-a2c3-e0b03ea2218b",
        "colab": {
          "base_uri": "https://localhost:8080/"
        }
      },
      "execution_count": null,
      "outputs": [
        {
          "output_type": "stream",
          "name": "stdout",
          "text": [
            "Epoch 1/50\n",
            "235/235 - 14s - loss: 0.5119 - accuracy: 0.8141 - val_loss: 0.4464 - val_accuracy: 0.8338 - 14s/epoch - 60ms/step\n",
            "Epoch 2/50\n",
            "235/235 - 14s - loss: 0.3558 - accuracy: 0.8688 - val_loss: 0.4194 - val_accuracy: 0.8507 - 14s/epoch - 58ms/step\n",
            "Epoch 3/50\n",
            "235/235 - 14s - loss: 0.3151 - accuracy: 0.8834 - val_loss: 0.3568 - val_accuracy: 0.8705 - 14s/epoch - 58ms/step\n",
            "Epoch 4/50\n",
            "235/235 - 14s - loss: 0.2879 - accuracy: 0.8924 - val_loss: 0.3433 - val_accuracy: 0.8760 - 14s/epoch - 58ms/step\n",
            "Epoch 5/50\n",
            "235/235 - 14s - loss: 0.2756 - accuracy: 0.8961 - val_loss: 0.3303 - val_accuracy: 0.8797 - 14s/epoch - 58ms/step\n",
            "Epoch 6/50\n",
            "235/235 - 14s - loss: 0.2636 - accuracy: 0.9013 - val_loss: 0.3293 - val_accuracy: 0.8797 - 14s/epoch - 58ms/step\n",
            "Epoch 7/50\n",
            "235/235 - 13s - loss: 0.2448 - accuracy: 0.9071 - val_loss: 0.3272 - val_accuracy: 0.8856 - 13s/epoch - 57ms/step\n",
            "Epoch 8/50\n",
            "235/235 - 13s - loss: 0.2365 - accuracy: 0.9099 - val_loss: 0.3253 - val_accuracy: 0.8830 - 13s/epoch - 57ms/step\n",
            "Epoch 9/50\n",
            "235/235 - 13s - loss: 0.2257 - accuracy: 0.9133 - val_loss: 0.3249 - val_accuracy: 0.8856 - 13s/epoch - 57ms/step\n",
            "Epoch 10/50\n",
            "235/235 - 13s - loss: 0.2189 - accuracy: 0.9160 - val_loss: 0.3247 - val_accuracy: 0.8896 - 13s/epoch - 57ms/step\n",
            "Epoch 11/50\n",
            "235/235 - 13s - loss: 0.2085 - accuracy: 0.9205 - val_loss: 0.3145 - val_accuracy: 0.8895 - 13s/epoch - 57ms/step\n",
            "Epoch 12/50\n",
            "235/235 - 13s - loss: 0.2020 - accuracy: 0.9222 - val_loss: 0.3290 - val_accuracy: 0.8902 - 13s/epoch - 57ms/step\n",
            "Epoch 13/50\n",
            "235/235 - 13s - loss: 0.1985 - accuracy: 0.9243 - val_loss: 0.3290 - val_accuracy: 0.8899 - 13s/epoch - 57ms/step\n",
            "Epoch 14/50\n",
            "235/235 - 13s - loss: 0.1869 - accuracy: 0.9285 - val_loss: 0.3245 - val_accuracy: 0.8913 - 13s/epoch - 57ms/step\n",
            "Epoch 15/50\n",
            "235/235 - 13s - loss: 0.1778 - accuracy: 0.9312 - val_loss: 0.3570 - val_accuracy: 0.8962 - 13s/epoch - 57ms/step\n",
            "Epoch 16/50\n",
            "235/235 - 13s - loss: 0.1745 - accuracy: 0.9330 - val_loss: 0.3571 - val_accuracy: 0.8892 - 13s/epoch - 57ms/step\n",
            "Epoch 17/50\n",
            "235/235 - 13s - loss: 0.1642 - accuracy: 0.9363 - val_loss: 0.3611 - val_accuracy: 0.8917 - 13s/epoch - 57ms/step\n",
            "Epoch 18/50\n",
            "235/235 - 13s - loss: 0.1604 - accuracy: 0.9371 - val_loss: 0.3659 - val_accuracy: 0.8895 - 13s/epoch - 57ms/step\n",
            "Epoch 19/50\n",
            "235/235 - 13s - loss: 0.1518 - accuracy: 0.9413 - val_loss: 0.3576 - val_accuracy: 0.8926 - 13s/epoch - 57ms/step\n",
            "Epoch 20/50\n",
            "235/235 - 14s - loss: 0.1501 - accuracy: 0.9416 - val_loss: 0.3516 - val_accuracy: 0.8938 - 14s/epoch - 58ms/step\n",
            "Epoch 21/50\n",
            "235/235 - 13s - loss: 0.1454 - accuracy: 0.9442 - val_loss: 0.3615 - val_accuracy: 0.8967 - 13s/epoch - 57ms/step\n",
            "Epoch 22/50\n",
            "235/235 - 13s - loss: 0.1351 - accuracy: 0.9475 - val_loss: 0.3757 - val_accuracy: 0.8947 - 13s/epoch - 57ms/step\n",
            "Epoch 23/50\n",
            "235/235 - 13s - loss: 0.1304 - accuracy: 0.9489 - val_loss: 0.3925 - val_accuracy: 0.8931 - 13s/epoch - 57ms/step\n",
            "Epoch 24/50\n",
            "235/235 - 14s - loss: 0.1337 - accuracy: 0.9474 - val_loss: 0.3776 - val_accuracy: 0.8928 - 14s/epoch - 58ms/step\n",
            "Epoch 25/50\n",
            "235/235 - 13s - loss: 0.1236 - accuracy: 0.9520 - val_loss: 0.3871 - val_accuracy: 0.8985 - 13s/epoch - 57ms/step\n",
            "Epoch 26/50\n",
            "235/235 - 13s - loss: 0.1206 - accuracy: 0.9520 - val_loss: 0.4094 - val_accuracy: 0.8904 - 13s/epoch - 57ms/step\n",
            "Epoch 27/50\n",
            "235/235 - 13s - loss: 0.1155 - accuracy: 0.9540 - val_loss: 0.4336 - val_accuracy: 0.8960 - 13s/epoch - 57ms/step\n",
            "Epoch 28/50\n",
            "235/235 - 13s - loss: 0.1151 - accuracy: 0.9550 - val_loss: 0.4226 - val_accuracy: 0.8948 - 13s/epoch - 57ms/step\n",
            "Epoch 29/50\n",
            "235/235 - 13s - loss: 0.1101 - accuracy: 0.9570 - val_loss: 0.4207 - val_accuracy: 0.8956 - 13s/epoch - 57ms/step\n",
            "Epoch 30/50\n",
            "235/235 - 13s - loss: 0.1033 - accuracy: 0.9598 - val_loss: 0.4498 - val_accuracy: 0.8958 - 13s/epoch - 57ms/step\n",
            "Epoch 31/50\n",
            "235/235 - 13s - loss: 0.0999 - accuracy: 0.9605 - val_loss: 0.4474 - val_accuracy: 0.8955 - 13s/epoch - 57ms/step\n",
            "Epoch 32/50\n",
            "235/235 - 13s - loss: 0.0964 - accuracy: 0.9618 - val_loss: 0.4401 - val_accuracy: 0.8907 - 13s/epoch - 57ms/step\n",
            "Epoch 33/50\n",
            "235/235 - 14s - loss: 0.0982 - accuracy: 0.9624 - val_loss: 0.4647 - val_accuracy: 0.8932 - 14s/epoch - 58ms/step\n",
            "Epoch 34/50\n",
            "235/235 - 14s - loss: 0.0895 - accuracy: 0.9652 - val_loss: 0.4858 - val_accuracy: 0.8975 - 14s/epoch - 58ms/step\n",
            "Epoch 35/50\n",
            "235/235 - 13s - loss: 0.0885 - accuracy: 0.9649 - val_loss: 0.5148 - val_accuracy: 0.8956 - 13s/epoch - 57ms/step\n",
            "Epoch 36/50\n",
            "235/235 - 14s - loss: 0.0881 - accuracy: 0.9651 - val_loss: 0.5175 - val_accuracy: 0.8936 - 14s/epoch - 58ms/step\n",
            "Epoch 37/50\n",
            "235/235 - 13s - loss: 0.0837 - accuracy: 0.9675 - val_loss: 0.4753 - val_accuracy: 0.8982 - 13s/epoch - 57ms/step\n",
            "Epoch 38/50\n",
            "235/235 - 14s - loss: 0.0800 - accuracy: 0.9689 - val_loss: 0.5109 - val_accuracy: 0.8982 - 14s/epoch - 58ms/step\n",
            "Epoch 39/50\n",
            "235/235 - 14s - loss: 0.0737 - accuracy: 0.9708 - val_loss: 0.5075 - val_accuracy: 0.8966 - 14s/epoch - 58ms/step\n",
            "Epoch 40/50\n",
            "235/235 - 13s - loss: 0.0711 - accuracy: 0.9718 - val_loss: 0.5543 - val_accuracy: 0.8988 - 13s/epoch - 57ms/step\n",
            "Epoch 41/50\n",
            "235/235 - 14s - loss: 0.0742 - accuracy: 0.9711 - val_loss: 0.5516 - val_accuracy: 0.8986 - 14s/epoch - 58ms/step\n",
            "Epoch 42/50\n",
            "235/235 - 14s - loss: 0.0684 - accuracy: 0.9730 - val_loss: 0.5368 - val_accuracy: 0.8939 - 14s/epoch - 58ms/step\n",
            "Epoch 43/50\n",
            "235/235 - 13s - loss: 0.0682 - accuracy: 0.9738 - val_loss: 0.5378 - val_accuracy: 0.8966 - 13s/epoch - 57ms/step\n",
            "Epoch 44/50\n",
            "235/235 - 14s - loss: 0.0665 - accuracy: 0.9742 - val_loss: 0.5497 - val_accuracy: 0.8949 - 14s/epoch - 57ms/step\n",
            "Epoch 45/50\n",
            "235/235 - 14s - loss: 0.0630 - accuracy: 0.9760 - val_loss: 0.5698 - val_accuracy: 0.9005 - 14s/epoch - 58ms/step\n",
            "Epoch 46/50\n",
            "235/235 - 13s - loss: 0.0608 - accuracy: 0.9771 - val_loss: 0.5788 - val_accuracy: 0.8947 - 13s/epoch - 57ms/step\n",
            "Epoch 47/50\n",
            "235/235 - 14s - loss: 0.0578 - accuracy: 0.9777 - val_loss: 0.5946 - val_accuracy: 0.8916 - 14s/epoch - 58ms/step\n",
            "Epoch 48/50\n",
            "235/235 - 14s - loss: 0.0583 - accuracy: 0.9780 - val_loss: 0.6451 - val_accuracy: 0.8912 - 14s/epoch - 58ms/step\n",
            "Epoch 49/50\n"
          ]
        }
      ]
    },
    {
      "cell_type": "code",
      "source": [
        "#Adagrad optimizer을 사용하는 모델\n",
        "dmlp_Adagrad=build_model()\n",
        "dmlp_Adagrad.compile(loss='categorical_crossentropy', optimizer=Adagrad(),metrics=['accuracy'])\n",
        "hist=Adagrad=dmlp_Adagrad.fit(x_train, y_train, batch_size=batch_siz,epochs=n_epoch, validation_data=(x_test, y_test),verbose=2)"
      ],
      "metadata": {
        "id": "hDYoo8eZSFw3"
      },
      "execution_count": null,
      "outputs": []
    },
    {
      "cell_type": "code",
      "source": [
        "#RMSprop optimizer을 사용하는 모델\n",
        "dmlp_RMSprop=build_model()\n",
        "dmlp_RMSprop.compile(loss='categorical_crossentropy', optimizer=RMSprop(),metrics=['accuracy'])\n",
        "hist=RMSprop=dmlp_RMSprop.fit(x_train, y_train, batch_size=batch_siz,epochs=n_epoch, validation_data=(x_test, y_test),verbose=2)"
      ],
      "metadata": {
        "id": "vRDZ-M9ySLxG"
      },
      "execution_count": null,
      "outputs": []
    },
    {
      "cell_type": "code",
      "source": [
        "#네 모델의 정확률을 출력\n",
        "print(\"SGD의 정확률은\",dmlp_sgd.evaluate(x_test,y_test,verbose=0)[1]*100)\n",
        "print(\"Adam의 정확률은\",dmlp_Adam.evaluate(x_test,y_test,verbose=0)[1]*100)\n",
        "print(\"Adagrad의 정확률은\",dmlp_Adagrad.evaluate(x_test,y_test,verbose=0)[1]*100)\n",
        "print(\"RMSprop의 정확률은\",dmlp_RMSprop.evaluate(x_test,y_test,verbose=0)[1]*100)\n",
        "\n",
        "import matplotlib.pyplot as plt"
      ],
      "metadata": {
        "id": "qwEc4lcnSR0s"
      },
      "execution_count": null,
      "outputs": []
    },
    {
      "cell_type": "code",
      "source": [
        "#네 모델의 정확률을 하나의 그래프에서 비교\n",
        "plt.plot(hist_sgd.history['accuracy'],'r')\n",
        "plt.plot(hist_sgd.history['val_accuracy'],'r--')\n",
        "plt.plot(hist_Adam.history['accuracy'],'g')\n",
        "plt.plot(hist_Adam.history['val_accuracy'],'g--')\n",
        "plt.plot(hist_Adagrad.history['accuracy'],'b')\n",
        "plt.plot(hist_Adagrad.history['val_accuracy'],'b--')\n",
        "plt.plot(hist_RMSprop.history['accuracy'],'m')\n",
        "plt.plot(hist_RMSprop.history['val_accuracy'],'m--')\n",
        "plt.title('Model accuracy comparison between optimizers')\n",
        "plt.ylim((0.6, 1.0))\n",
        "plt.ylabel('Accuracy')\n",
        "plt.xlabel('Epoch')\n",
        "plt.legend(['Train_sgd','Val_sgd','Train_Adam','Val_Adam','Train_Adagrad','Val_Adagrad','Train_rmsprop','Val_rmsprop'], loc='best')\n",
        "plt.grid()\n",
        "plt.show()"
      ],
      "metadata": {
        "id": "kq4fCOjlSqh8"
      },
      "execution_count": null,
      "outputs": []
    },
    {
      "cell_type": "code",
      "source": [
        "#교차 검증을 이용한 옵티마이저의 성능 비교\n",
        "import numpy as np\n",
        "import tensorflow as tf\n",
        "from tensorflow.keras.datasets import fashion_mnist\n",
        "from tensorflow.keras.models import Sequential\n",
        "from tensorflow.keras.layers import Dense\n",
        "from tensorflow.keras.optimizers import SGD, Adam, Adagrad, RMSprop\n",
        "from sklearn.model_selection import KFold"
      ],
      "metadata": {
        "id": "ReeN6Tv3S6VL"
      },
      "execution_count": null,
      "outputs": []
    },
    {
      "cell_type": "code",
      "source": [
        "#fashion MNIST를 읽고 신경망에 입력할 형태로 변환"
      ],
      "metadata": {
        "id": "gVgxJWQEUbsx"
      },
      "execution_count": null,
      "outputs": []
    }
  ]
}